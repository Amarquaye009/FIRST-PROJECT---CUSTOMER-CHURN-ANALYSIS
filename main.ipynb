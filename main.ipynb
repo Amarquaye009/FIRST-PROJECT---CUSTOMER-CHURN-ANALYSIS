{
 "cells": [
  {
   "cell_type": "code",
   "execution_count": 1,
   "metadata": {},
   "outputs": [
    {
     "name": "stdout",
     "output_type": "stream",
     "text": [
      "Defaulting to user installation because normal site-packages is not writeable\n",
      "Requirement already satisfied: seaborn in c:\\users\\hp\\appdata\\local\\packages\\pythonsoftwarefoundation.python.3.12_qbz5n2kfra8p0\\localcache\\local-packages\\python312\\site-packages (0.13.2)\n",
      "Requirement already satisfied: numpy!=1.24.0,>=1.20 in c:\\users\\hp\\appdata\\local\\packages\\pythonsoftwarefoundation.python.3.12_qbz5n2kfra8p0\\localcache\\local-packages\\python312\\site-packages (from seaborn) (1.26.4)\n",
      "Requirement already satisfied: pandas>=1.2 in c:\\users\\hp\\appdata\\local\\packages\\pythonsoftwarefoundation.python.3.12_qbz5n2kfra8p0\\localcache\\local-packages\\python312\\site-packages (from seaborn) (2.2.2)\n",
      "Requirement already satisfied: matplotlib!=3.6.1,>=3.4 in c:\\users\\hp\\appdata\\local\\packages\\pythonsoftwarefoundation.python.3.12_qbz5n2kfra8p0\\localcache\\local-packages\\python312\\site-packages (from seaborn) (3.9.0)\n",
      "Requirement already satisfied: contourpy>=1.0.1 in c:\\users\\hp\\appdata\\local\\packages\\pythonsoftwarefoundation.python.3.12_qbz5n2kfra8p0\\localcache\\local-packages\\python312\\site-packages (from matplotlib!=3.6.1,>=3.4->seaborn) (1.2.1)\n",
      "Requirement already satisfied: cycler>=0.10 in c:\\users\\hp\\appdata\\local\\packages\\pythonsoftwarefoundation.python.3.12_qbz5n2kfra8p0\\localcache\\local-packages\\python312\\site-packages (from matplotlib!=3.6.1,>=3.4->seaborn) (0.12.1)\n",
      "Requirement already satisfied: fonttools>=4.22.0 in c:\\users\\hp\\appdata\\local\\packages\\pythonsoftwarefoundation.python.3.12_qbz5n2kfra8p0\\localcache\\local-packages\\python312\\site-packages (from matplotlib!=3.6.1,>=3.4->seaborn) (4.51.0)\n",
      "Requirement already satisfied: kiwisolver>=1.3.1 in c:\\users\\hp\\appdata\\local\\packages\\pythonsoftwarefoundation.python.3.12_qbz5n2kfra8p0\\localcache\\local-packages\\python312\\site-packages (from matplotlib!=3.6.1,>=3.4->seaborn) (1.4.5)\n",
      "Requirement already satisfied: packaging>=20.0 in c:\\users\\hp\\appdata\\local\\packages\\pythonsoftwarefoundation.python.3.12_qbz5n2kfra8p0\\localcache\\local-packages\\python312\\site-packages (from matplotlib!=3.6.1,>=3.4->seaborn) (24.0)\n",
      "Requirement already satisfied: pillow>=8 in c:\\users\\hp\\appdata\\local\\packages\\pythonsoftwarefoundation.python.3.12_qbz5n2kfra8p0\\localcache\\local-packages\\python312\\site-packages (from matplotlib!=3.6.1,>=3.4->seaborn) (10.3.0)\n",
      "Requirement already satisfied: pyparsing>=2.3.1 in c:\\users\\hp\\appdata\\local\\packages\\pythonsoftwarefoundation.python.3.12_qbz5n2kfra8p0\\localcache\\local-packages\\python312\\site-packages (from matplotlib!=3.6.1,>=3.4->seaborn) (3.1.2)\n",
      "Requirement already satisfied: python-dateutil>=2.7 in c:\\users\\hp\\appdata\\local\\packages\\pythonsoftwarefoundation.python.3.12_qbz5n2kfra8p0\\localcache\\local-packages\\python312\\site-packages (from matplotlib!=3.6.1,>=3.4->seaborn) (2.9.0.post0)\n",
      "Requirement already satisfied: pytz>=2020.1 in c:\\users\\hp\\appdata\\local\\packages\\pythonsoftwarefoundation.python.3.12_qbz5n2kfra8p0\\localcache\\local-packages\\python312\\site-packages (from pandas>=1.2->seaborn) (2024.1)\n",
      "Requirement already satisfied: tzdata>=2022.7 in c:\\users\\hp\\appdata\\local\\packages\\pythonsoftwarefoundation.python.3.12_qbz5n2kfra8p0\\localcache\\local-packages\\python312\\site-packages (from pandas>=1.2->seaborn) (2024.1)\n",
      "Requirement already satisfied: six>=1.5 in c:\\users\\hp\\appdata\\local\\packages\\pythonsoftwarefoundation.python.3.12_qbz5n2kfra8p0\\localcache\\local-packages\\python312\\site-packages (from python-dateutil>=2.7->matplotlib!=3.6.1,>=3.4->seaborn) (1.16.0)\n",
      "Defaulting to user installation because normal site-packages is not writeable\n",
      "Requirement already satisfied: missingno in c:\\users\\hp\\appdata\\local\\packages\\pythonsoftwarefoundation.python.3.12_qbz5n2kfra8p0\\localcache\\local-packages\\python312\\site-packages (0.5.2)\n",
      "Requirement already satisfied: numpy in c:\\users\\hp\\appdata\\local\\packages\\pythonsoftwarefoundation.python.3.12_qbz5n2kfra8p0\\localcache\\local-packages\\python312\\site-packages (from missingno) (1.26.4)\n",
      "Requirement already satisfied: matplotlib in c:\\users\\hp\\appdata\\local\\packages\\pythonsoftwarefoundation.python.3.12_qbz5n2kfra8p0\\localcache\\local-packages\\python312\\site-packages (from missingno) (3.9.0)\n",
      "Requirement already satisfied: scipy in c:\\users\\hp\\appdata\\local\\packages\\pythonsoftwarefoundation.python.3.12_qbz5n2kfra8p0\\localcache\\local-packages\\python312\\site-packages (from missingno) (1.13.1)\n",
      "Requirement already satisfied: seaborn in c:\\users\\hp\\appdata\\local\\packages\\pythonsoftwarefoundation.python.3.12_qbz5n2kfra8p0\\localcache\\local-packages\\python312\\site-packages (from missingno) (0.13.2)\n",
      "Requirement already satisfied: contourpy>=1.0.1 in c:\\users\\hp\\appdata\\local\\packages\\pythonsoftwarefoundation.python.3.12_qbz5n2kfra8p0\\localcache\\local-packages\\python312\\site-packages (from matplotlib->missingno) (1.2.1)\n",
      "Requirement already satisfied: cycler>=0.10 in c:\\users\\hp\\appdata\\local\\packages\\pythonsoftwarefoundation.python.3.12_qbz5n2kfra8p0\\localcache\\local-packages\\python312\\site-packages (from matplotlib->missingno) (0.12.1)\n",
      "Requirement already satisfied: fonttools>=4.22.0 in c:\\users\\hp\\appdata\\local\\packages\\pythonsoftwarefoundation.python.3.12_qbz5n2kfra8p0\\localcache\\local-packages\\python312\\site-packages (from matplotlib->missingno) (4.51.0)\n",
      "Requirement already satisfied: kiwisolver>=1.3.1 in c:\\users\\hp\\appdata\\local\\packages\\pythonsoftwarefoundation.python.3.12_qbz5n2kfra8p0\\localcache\\local-packages\\python312\\site-packages (from matplotlib->missingno) (1.4.5)\n",
      "Requirement already satisfied: packaging>=20.0 in c:\\users\\hp\\appdata\\local\\packages\\pythonsoftwarefoundation.python.3.12_qbz5n2kfra8p0\\localcache\\local-packages\\python312\\site-packages (from matplotlib->missingno) (24.0)\n",
      "Requirement already satisfied: pillow>=8 in c:\\users\\hp\\appdata\\local\\packages\\pythonsoftwarefoundation.python.3.12_qbz5n2kfra8p0\\localcache\\local-packages\\python312\\site-packages (from matplotlib->missingno) (10.3.0)\n",
      "Requirement already satisfied: pyparsing>=2.3.1 in c:\\users\\hp\\appdata\\local\\packages\\pythonsoftwarefoundation.python.3.12_qbz5n2kfra8p0\\localcache\\local-packages\\python312\\site-packages (from matplotlib->missingno) (3.1.2)\n",
      "Requirement already satisfied: python-dateutil>=2.7 in c:\\users\\hp\\appdata\\local\\packages\\pythonsoftwarefoundation.python.3.12_qbz5n2kfra8p0\\localcache\\local-packages\\python312\\site-packages (from matplotlib->missingno) (2.9.0.post0)\n",
      "Requirement already satisfied: pandas>=1.2 in c:\\users\\hp\\appdata\\local\\packages\\pythonsoftwarefoundation.python.3.12_qbz5n2kfra8p0\\localcache\\local-packages\\python312\\site-packages (from seaborn->missingno) (2.2.2)\n",
      "Requirement already satisfied: pytz>=2020.1 in c:\\users\\hp\\appdata\\local\\packages\\pythonsoftwarefoundation.python.3.12_qbz5n2kfra8p0\\localcache\\local-packages\\python312\\site-packages (from pandas>=1.2->seaborn->missingno) (2024.1)\n",
      "Requirement already satisfied: tzdata>=2022.7 in c:\\users\\hp\\appdata\\local\\packages\\pythonsoftwarefoundation.python.3.12_qbz5n2kfra8p0\\localcache\\local-packages\\python312\\site-packages (from pandas>=1.2->seaborn->missingno) (2024.1)\n",
      "Requirement already satisfied: six>=1.5 in c:\\users\\hp\\appdata\\local\\packages\\pythonsoftwarefoundation.python.3.12_qbz5n2kfra8p0\\localcache\\local-packages\\python312\\site-packages (from python-dateutil>=2.7->matplotlib->missingno) (1.16.0)\n"
     ]
    }
   ],
   "source": [
    "# %pip install pyodbc\n",
    "# %pip install python-dotenv\n",
    "import pandas as pd\n",
    "import numpy as np\n",
    "import matplotlib.pyplot as plt\n",
    "!pip install seaborn\n",
    "import seaborn as sns\n",
    "import pyodbc\n",
    "from dotenv import dotenv_values\n",
    "import pyodbc\n",
    "!pip install missingno\n",
    "import missingno as msno"
   ]
  },
  {
   "cell_type": "markdown",
   "metadata": {},
   "source": [
    "## 2020 AND 2021 DATASETS FROM SQL DATABASE"
   ]
  },
  {
   "cell_type": "code",
   "execution_count": 2,
   "metadata": {},
   "outputs": [],
   "source": [
    "SERVER='dap-projects-database.database.windows.net'\n",
    "DATABASE='dapDB'\n",
    "USERNAME='LP1_learner'\n",
    "PASSWORD='Hyp0th3s!$T3$t!ng'\n"
   ]
  },
  {
   "cell_type": "code",
   "execution_count": 3,
   "metadata": {},
   "outputs": [],
   "source": [
    "# Load environment variables from .env file into a dictionary\n",
    "environment_variables = dotenv_values('.env')\n",
    "\n",
    "# Get the values for the credentials you set in the '.env' file\n",
    "server = environment_variables.get(\"SERVER\")\n",
    "database = environment_variables.get(\"DATABASE\")\n",
    "username = environment_variables.get(\"USERNAME\")\n",
    "password = environment_variables.get(\"PASSWORD\")"
   ]
  },
  {
   "cell_type": "code",
   "execution_count": 4,
   "metadata": {},
   "outputs": [],
   "source": [
    "# Creation of connection\n",
    "connection_string = f\"DRIVER={{SQL Server}};SERVER={server};DATABASE={database};UID={username};PWD={password};MARS_Connection=yes;MinProtocolVersion=TLSv1.2;\"\n"
   ]
  },
  {
   "cell_type": "code",
   "execution_count": 5,
   "metadata": {},
   "outputs": [],
   "source": [
    "connection = pyodbc.connect(connection_string)"
   ]
  },
  {
   "cell_type": "code",
   "execution_count": 6,
   "metadata": {},
   "outputs": [
    {
     "name": "stderr",
     "output_type": "stream",
     "text": [
      "C:\\Users\\HP\\AppData\\Local\\Temp\\ipykernel_3052\\1545047851.py:3: UserWarning: pandas only supports SQLAlchemy connectable (engine/connection) or database string URI or sqlite3 DBAPI2 connection. Other DBAPI2 objects are not tested. Please consider using SQLAlchemy.\n",
      "  data = pd.read_sql(query, connection)\n",
      "C:\\Users\\HP\\AppData\\Local\\Temp\\ipykernel_3052\\1545047851.py:7: UserWarning: pandas only supports SQLAlchemy connectable (engine/connection) or database string URI or sqlite3 DBAPI2 connection. Other DBAPI2 objects are not tested. Please consider using SQLAlchemy.\n",
      "  data1 = pd.read_sql(query, connection)\n"
     ]
    }
   ],
   "source": [
    "query = \"SELECT * FROM dbo.LP1_startup_funding2020\"\n",
    "\n",
    "data = pd.read_sql(query, connection)\n",
    "\n",
    "query = \"SELECT * FROM dbo.LP1_startup_funding2021\"\n",
    "\n",
    "data1 = pd.read_sql(query, connection)"
   ]
  },
  {
   "cell_type": "code",
   "execution_count": 7,
   "metadata": {},
   "outputs": [],
   "source": [
    "data = data.drop(columns=['column10'])"
   ]
  },
  {
   "cell_type": "code",
   "execution_count": 8,
   "metadata": {},
   "outputs": [
    {
     "data": {
      "text/html": [
       "<div>\n",
       "<style scoped>\n",
       "    .dataframe tbody tr th:only-of-type {\n",
       "        vertical-align: middle;\n",
       "    }\n",
       "\n",
       "    .dataframe tbody tr th {\n",
       "        vertical-align: top;\n",
       "    }\n",
       "\n",
       "    .dataframe thead th {\n",
       "        text-align: right;\n",
       "    }\n",
       "</style>\n",
       "<table border=\"1\" class=\"dataframe\">\n",
       "  <thead>\n",
       "    <tr style=\"text-align: right;\">\n",
       "      <th></th>\n",
       "      <th>Company_Brand</th>\n",
       "      <th>Founded</th>\n",
       "      <th>HeadQuarter</th>\n",
       "      <th>Sector</th>\n",
       "      <th>What_it_does</th>\n",
       "      <th>Founders</th>\n",
       "      <th>Investor</th>\n",
       "      <th>Amount</th>\n",
       "      <th>Stage</th>\n",
       "    </tr>\n",
       "  </thead>\n",
       "  <tbody>\n",
       "    <tr>\n",
       "      <th>0</th>\n",
       "      <td>Unbox Robotics</td>\n",
       "      <td>2019.0</td>\n",
       "      <td>Bangalore</td>\n",
       "      <td>AI startup</td>\n",
       "      <td>Unbox Robotics builds on-demand AI-driven ware...</td>\n",
       "      <td>Pramod Ghadge, Shahid Memon</td>\n",
       "      <td>BEENEXT, Entrepreneur First</td>\n",
       "      <td>$1,200,000</td>\n",
       "      <td>Pre-series A</td>\n",
       "    </tr>\n",
       "    <tr>\n",
       "      <th>1</th>\n",
       "      <td>upGrad</td>\n",
       "      <td>2015.0</td>\n",
       "      <td>Mumbai</td>\n",
       "      <td>EdTech</td>\n",
       "      <td>UpGrad is an online higher education platform.</td>\n",
       "      <td>Mayank Kumar, Phalgun Kompalli, Ravijot Chugh,...</td>\n",
       "      <td>Unilazer Ventures, IIFL Asset Management</td>\n",
       "      <td>$120,000,000</td>\n",
       "      <td>None</td>\n",
       "    </tr>\n",
       "    <tr>\n",
       "      <th>2</th>\n",
       "      <td>Lead School</td>\n",
       "      <td>2012.0</td>\n",
       "      <td>Mumbai</td>\n",
       "      <td>EdTech</td>\n",
       "      <td>LEAD School offers technology based school tra...</td>\n",
       "      <td>Smita Deorah, Sumeet Mehta</td>\n",
       "      <td>GSV Ventures, Westbridge Capital</td>\n",
       "      <td>$30,000,000</td>\n",
       "      <td>Series D</td>\n",
       "    </tr>\n",
       "    <tr>\n",
       "      <th>3</th>\n",
       "      <td>Bizongo</td>\n",
       "      <td>2015.0</td>\n",
       "      <td>Mumbai</td>\n",
       "      <td>B2B E-commerce</td>\n",
       "      <td>Bizongo is a business-to-business online marke...</td>\n",
       "      <td>Aniket Deb, Ankit Tomar, Sachin Agrawal</td>\n",
       "      <td>CDC Group, IDG Capital</td>\n",
       "      <td>$51,000,000</td>\n",
       "      <td>Series C</td>\n",
       "    </tr>\n",
       "    <tr>\n",
       "      <th>4</th>\n",
       "      <td>FypMoney</td>\n",
       "      <td>2021.0</td>\n",
       "      <td>Gurugram</td>\n",
       "      <td>FinTech</td>\n",
       "      <td>FypMoney is Digital NEO Bank for Teenagers, em...</td>\n",
       "      <td>Kapil Banwari</td>\n",
       "      <td>Liberatha Kallat, Mukesh Yadav, Dinesh Nagpal</td>\n",
       "      <td>$2,000,000</td>\n",
       "      <td>Seed</td>\n",
       "    </tr>\n",
       "  </tbody>\n",
       "</table>\n",
       "</div>"
      ],
      "text/plain": [
       "    Company_Brand  Founded HeadQuarter          Sector  \\\n",
       "0  Unbox Robotics   2019.0   Bangalore      AI startup   \n",
       "1          upGrad   2015.0      Mumbai          EdTech   \n",
       "2     Lead School   2012.0      Mumbai          EdTech   \n",
       "3         Bizongo   2015.0      Mumbai  B2B E-commerce   \n",
       "4        FypMoney   2021.0    Gurugram         FinTech   \n",
       "\n",
       "                                        What_it_does  \\\n",
       "0  Unbox Robotics builds on-demand AI-driven ware...   \n",
       "1     UpGrad is an online higher education platform.   \n",
       "2  LEAD School offers technology based school tra...   \n",
       "3  Bizongo is a business-to-business online marke...   \n",
       "4  FypMoney is Digital NEO Bank for Teenagers, em...   \n",
       "\n",
       "                                            Founders  \\\n",
       "0                        Pramod Ghadge, Shahid Memon   \n",
       "1  Mayank Kumar, Phalgun Kompalli, Ravijot Chugh,...   \n",
       "2                         Smita Deorah, Sumeet Mehta   \n",
       "3            Aniket Deb, Ankit Tomar, Sachin Agrawal   \n",
       "4                                      Kapil Banwari   \n",
       "\n",
       "                                        Investor        Amount         Stage  \n",
       "0                    BEENEXT, Entrepreneur First    $1,200,000  Pre-series A  \n",
       "1       Unilazer Ventures, IIFL Asset Management  $120,000,000          None  \n",
       "2               GSV Ventures, Westbridge Capital   $30,000,000      Series D  \n",
       "3                         CDC Group, IDG Capital   $51,000,000      Series C  \n",
       "4  Liberatha Kallat, Mukesh Yadav, Dinesh Nagpal    $2,000,000          Seed  "
      ]
     },
     "execution_count": 8,
     "metadata": {},
     "output_type": "execute_result"
    }
   ],
   "source": [
    "data1.head(5)\n",
    "\n"
   ]
  },
  {
   "cell_type": "code",
   "execution_count": 9,
   "metadata": {},
   "outputs": [
    {
     "data": {
      "text/html": [
       "<div>\n",
       "<style scoped>\n",
       "    .dataframe tbody tr th:only-of-type {\n",
       "        vertical-align: middle;\n",
       "    }\n",
       "\n",
       "    .dataframe tbody tr th {\n",
       "        vertical-align: top;\n",
       "    }\n",
       "\n",
       "    .dataframe thead th {\n",
       "        text-align: right;\n",
       "    }\n",
       "</style>\n",
       "<table border=\"1\" class=\"dataframe\">\n",
       "  <thead>\n",
       "    <tr style=\"text-align: right;\">\n",
       "      <th></th>\n",
       "      <th>Company_Brand</th>\n",
       "      <th>Founded</th>\n",
       "      <th>HeadQuarter</th>\n",
       "      <th>Sector</th>\n",
       "      <th>What_it_does</th>\n",
       "      <th>Founders</th>\n",
       "      <th>Investor</th>\n",
       "      <th>Amount</th>\n",
       "      <th>Stage</th>\n",
       "    </tr>\n",
       "  </thead>\n",
       "  <tbody>\n",
       "    <tr>\n",
       "      <th>0</th>\n",
       "      <td>Aqgromalin</td>\n",
       "      <td>2019.0</td>\n",
       "      <td>Chennai</td>\n",
       "      <td>AgriTech</td>\n",
       "      <td>Cultivating Ideas for Profit</td>\n",
       "      <td>Prasanna Manogaran, Bharani C L</td>\n",
       "      <td>Angel investors</td>\n",
       "      <td>200000.0</td>\n",
       "      <td>None</td>\n",
       "    </tr>\n",
       "    <tr>\n",
       "      <th>1</th>\n",
       "      <td>Krayonnz</td>\n",
       "      <td>2019.0</td>\n",
       "      <td>Bangalore</td>\n",
       "      <td>EdTech</td>\n",
       "      <td>An academy-guardian-scholar centric ecosystem ...</td>\n",
       "      <td>Saurabh Dixit, Gurudutt Upadhyay</td>\n",
       "      <td>GSF Accelerator</td>\n",
       "      <td>100000.0</td>\n",
       "      <td>Pre-seed</td>\n",
       "    </tr>\n",
       "    <tr>\n",
       "      <th>2</th>\n",
       "      <td>PadCare Labs</td>\n",
       "      <td>2018.0</td>\n",
       "      <td>Pune</td>\n",
       "      <td>Hygiene management</td>\n",
       "      <td>Converting bio-hazardous waste to harmless waste</td>\n",
       "      <td>Ajinkya Dhariya</td>\n",
       "      <td>Venture Center</td>\n",
       "      <td>NaN</td>\n",
       "      <td>Pre-seed</td>\n",
       "    </tr>\n",
       "    <tr>\n",
       "      <th>3</th>\n",
       "      <td>NCOME</td>\n",
       "      <td>2020.0</td>\n",
       "      <td>New Delhi</td>\n",
       "      <td>Escrow</td>\n",
       "      <td>Escrow-as-a-service platform</td>\n",
       "      <td>Ritesh Tiwari</td>\n",
       "      <td>Venture Catalysts, PointOne Capital</td>\n",
       "      <td>400000.0</td>\n",
       "      <td>None</td>\n",
       "    </tr>\n",
       "    <tr>\n",
       "      <th>4</th>\n",
       "      <td>Gramophone</td>\n",
       "      <td>2016.0</td>\n",
       "      <td>Indore</td>\n",
       "      <td>AgriTech</td>\n",
       "      <td>Gramophone is an AgTech platform enabling acce...</td>\n",
       "      <td>Ashish Rajan Singh, Harshit Gupta, Nishant Mah...</td>\n",
       "      <td>Siana Capital Management, Info Edge</td>\n",
       "      <td>340000.0</td>\n",
       "      <td>None</td>\n",
       "    </tr>\n",
       "  </tbody>\n",
       "</table>\n",
       "</div>"
      ],
      "text/plain": [
       "  Company_Brand  Founded HeadQuarter              Sector  \\\n",
       "0    Aqgromalin   2019.0     Chennai            AgriTech   \n",
       "1      Krayonnz   2019.0   Bangalore              EdTech   \n",
       "2  PadCare Labs   2018.0        Pune  Hygiene management   \n",
       "3         NCOME   2020.0   New Delhi              Escrow   \n",
       "4    Gramophone   2016.0      Indore            AgriTech   \n",
       "\n",
       "                                        What_it_does  \\\n",
       "0                       Cultivating Ideas for Profit   \n",
       "1  An academy-guardian-scholar centric ecosystem ...   \n",
       "2   Converting bio-hazardous waste to harmless waste   \n",
       "3                       Escrow-as-a-service platform   \n",
       "4  Gramophone is an AgTech platform enabling acce...   \n",
       "\n",
       "                                            Founders  \\\n",
       "0                    Prasanna Manogaran, Bharani C L   \n",
       "1                   Saurabh Dixit, Gurudutt Upadhyay   \n",
       "2                                    Ajinkya Dhariya   \n",
       "3                                      Ritesh Tiwari   \n",
       "4  Ashish Rajan Singh, Harshit Gupta, Nishant Mah...   \n",
       "\n",
       "                              Investor    Amount     Stage  \n",
       "0                      Angel investors  200000.0      None  \n",
       "1                      GSF Accelerator  100000.0  Pre-seed  \n",
       "2                       Venture Center       NaN  Pre-seed  \n",
       "3  Venture Catalysts, PointOne Capital  400000.0      None  \n",
       "4  Siana Capital Management, Info Edge  340000.0      None  "
      ]
     },
     "execution_count": 9,
     "metadata": {},
     "output_type": "execute_result"
    }
   ],
   "source": [
    "data.head(5)"
   ]
  },
  {
   "cell_type": "code",
   "execution_count": 10,
   "metadata": {},
   "outputs": [],
   "source": [
    "data.to_csv('2020dataset.csv', index=False)\n",
    "data.to_csv('2021dataset.csv', index=False)\n"
   ]
  },
  {
   "cell_type": "markdown",
   "metadata": {},
   "source": [
    "## 2019 DATASET FROM ONE DRIVE"
   ]
  },
  {
   "cell_type": "code",
   "execution_count": 11,
   "metadata": {},
   "outputs": [],
   "source": [
    "filepath = r\"C:\\Users\\HP\\OneDrive\\First Solo Project\\FIRST-PROJECT---CUSTOMER-CHURN-ANALYSIS\\startup_funding2019.csv\"\n",
    "data2 = pd.read_csv(filepath)\n",
    "data2.to_csv('2019dataset.csv', index=False)\n"
   ]
  },
  {
   "cell_type": "code",
   "execution_count": 12,
   "metadata": {},
   "outputs": [],
   "source": [
    "filepath = R\"C:\\Users\\HP\\OneDrive\\First Solo Project\\FIRST-PROJECT---CUSTOMER-CHURN-ANALYSIS\\startup_funding2018.csv\"\n",
    "data3 = pd.read_csv(filepath)\n",
    "data3.to_csv('2018dataset.csv',index = False)"
   ]
  },
  {
   "cell_type": "code",
   "execution_count": 13,
   "metadata": {},
   "outputs": [
    {
     "data": {
      "text/plain": [
       "(1055, 9)"
      ]
     },
     "execution_count": 13,
     "metadata": {},
     "output_type": "execute_result"
    }
   ],
   "source": [
    "data.shape"
   ]
  },
  {
   "cell_type": "code",
   "execution_count": 14,
   "metadata": {},
   "outputs": [
    {
     "data": {
      "text/html": [
       "<div>\n",
       "<style scoped>\n",
       "    .dataframe tbody tr th:only-of-type {\n",
       "        vertical-align: middle;\n",
       "    }\n",
       "\n",
       "    .dataframe tbody tr th {\n",
       "        vertical-align: top;\n",
       "    }\n",
       "\n",
       "    .dataframe thead th {\n",
       "        text-align: right;\n",
       "    }\n",
       "</style>\n",
       "<table border=\"1\" class=\"dataframe\">\n",
       "  <thead>\n",
       "    <tr style=\"text-align: right;\">\n",
       "      <th></th>\n",
       "      <th>Founded</th>\n",
       "      <th>Amount</th>\n",
       "    </tr>\n",
       "  </thead>\n",
       "  <tbody>\n",
       "    <tr>\n",
       "      <th>count</th>\n",
       "      <td>842.000000</td>\n",
       "      <td>8.010000e+02</td>\n",
       "    </tr>\n",
       "    <tr>\n",
       "      <th>mean</th>\n",
       "      <td>2015.363420</td>\n",
       "      <td>1.130430e+08</td>\n",
       "    </tr>\n",
       "    <tr>\n",
       "      <th>std</th>\n",
       "      <td>4.097909</td>\n",
       "      <td>2.476635e+09</td>\n",
       "    </tr>\n",
       "    <tr>\n",
       "      <th>min</th>\n",
       "      <td>1973.000000</td>\n",
       "      <td>1.270000e+04</td>\n",
       "    </tr>\n",
       "    <tr>\n",
       "      <th>25%</th>\n",
       "      <td>2014.000000</td>\n",
       "      <td>1.000000e+06</td>\n",
       "    </tr>\n",
       "    <tr>\n",
       "      <th>50%</th>\n",
       "      <td>2016.000000</td>\n",
       "      <td>3.000000e+06</td>\n",
       "    </tr>\n",
       "    <tr>\n",
       "      <th>75%</th>\n",
       "      <td>2018.000000</td>\n",
       "      <td>1.100000e+07</td>\n",
       "    </tr>\n",
       "    <tr>\n",
       "      <th>max</th>\n",
       "      <td>2020.000000</td>\n",
       "      <td>7.000000e+10</td>\n",
       "    </tr>\n",
       "  </tbody>\n",
       "</table>\n",
       "</div>"
      ],
      "text/plain": [
       "           Founded        Amount\n",
       "count   842.000000  8.010000e+02\n",
       "mean   2015.363420  1.130430e+08\n",
       "std       4.097909  2.476635e+09\n",
       "min    1973.000000  1.270000e+04\n",
       "25%    2014.000000  1.000000e+06\n",
       "50%    2016.000000  3.000000e+06\n",
       "75%    2018.000000  1.100000e+07\n",
       "max    2020.000000  7.000000e+10"
      ]
     },
     "execution_count": 14,
     "metadata": {},
     "output_type": "execute_result"
    }
   ],
   "source": [
    "data.describe()\n"
   ]
  },
  {
   "cell_type": "code",
   "execution_count": 15,
   "metadata": {},
   "outputs": [
    {
     "data": {
      "text/plain": [
       "Index(['Company_Brand', 'Founded', 'HeadQuarter', 'Sector', 'What_it_does',\n",
       "       'Founders', 'Investor', 'Amount', 'Stage'],\n",
       "      dtype='object')"
      ]
     },
     "execution_count": 15,
     "metadata": {},
     "output_type": "execute_result"
    }
   ],
   "source": [
    "data.columns"
   ]
  },
  {
   "cell_type": "code",
   "execution_count": 16,
   "metadata": {},
   "outputs": [
    {
     "data": {
      "text/plain": [
       "(1209, 9)"
      ]
     },
     "execution_count": 16,
     "metadata": {},
     "output_type": "execute_result"
    }
   ],
   "source": [
    "data1.shape"
   ]
  },
  {
   "cell_type": "code",
   "execution_count": 17,
   "metadata": {},
   "outputs": [
    {
     "data": {
      "text/plain": [
       "Index(['Company_Brand', 'Founded', 'HeadQuarter', 'Sector', 'What_it_does',\n",
       "       'Founders', 'Investor', 'Amount', 'Stage'],\n",
       "      dtype='object')"
      ]
     },
     "execution_count": 17,
     "metadata": {},
     "output_type": "execute_result"
    }
   ],
   "source": [
    "data1.columns"
   ]
  },
  {
   "cell_type": "code",
   "execution_count": 18,
   "metadata": {},
   "outputs": [
    {
     "data": {
      "text/plain": [
       "(89, 9)"
      ]
     },
     "execution_count": 18,
     "metadata": {},
     "output_type": "execute_result"
    }
   ],
   "source": [
    "data2.shape"
   ]
  },
  {
   "cell_type": "code",
   "execution_count": 19,
   "metadata": {},
   "outputs": [
    {
     "data": {
      "text/plain": [
       "Index(['Company/Brand', 'Founded', 'HeadQuarter', 'Sector', 'What it does',\n",
       "       'Founders', 'Investor', 'Amount($)', 'Stage'],\n",
       "      dtype='object')"
      ]
     },
     "execution_count": 19,
     "metadata": {},
     "output_type": "execute_result"
    }
   ],
   "source": [
    "data2.columns"
   ]
  },
  {
   "cell_type": "code",
   "execution_count": 20,
   "metadata": {},
   "outputs": [
    {
     "data": {
      "text/plain": [
       "(526, 6)"
      ]
     },
     "execution_count": 20,
     "metadata": {},
     "output_type": "execute_result"
    }
   ],
   "source": [
    "data3.shape"
   ]
  },
  {
   "cell_type": "code",
   "execution_count": 21,
   "metadata": {},
   "outputs": [
    {
     "data": {
      "text/plain": [
       "Index(['Company Name', 'Industry', 'Round/Series', 'Amount', 'Location',\n",
       "       'About Company'],\n",
       "      dtype='object')"
      ]
     },
     "execution_count": 21,
     "metadata": {},
     "output_type": "execute_result"
    }
   ],
   "source": [
    "data3.columns"
   ]
  },
  {
   "cell_type": "code",
   "execution_count": 22,
   "metadata": {},
   "outputs": [],
   "source": [
    "# Aim of this step is to ensure all columns and column headers are the same\n",
    "data.columns = data.columns.str.replace('What_it_does', 'What it does').str.replace('Company_Brand', 'Company/Brand')\n",
    "data1.columns = data1.columns.str.replace('What_it_does', 'What it does').str.replace('Company_Brand', 'Company/Brand')\n",
    "data2.columns = data2.columns.str.replace('Amount($)', 'Amount').str.replace('Company/Brand', 'Company/Brand')\n"
   ]
  },
  {
   "cell_type": "code",
   "execution_count": 23,
   "metadata": {},
   "outputs": [],
   "source": [
    "# This steps aims to make changes to the columns of the 2018 dataset to make the columns equal to the of the pther datasets\n",
    "data3 = data3.rename(columns={\n",
    "    'Company Name': 'Company/Brand',\n",
    "    'Industry': 'Sector',\n",
    "    'Round/Series': 'Stage',\n",
    "    'Location': 'HeadQuarter',\n",
    "    'About Company': 'What it does'\n",
    "})"
   ]
  },
  {
   "cell_type": "code",
   "execution_count": 24,
   "metadata": {},
   "outputs": [
    {
     "data": {
      "text/html": [
       "<div>\n",
       "<style scoped>\n",
       "    .dataframe tbody tr th:only-of-type {\n",
       "        vertical-align: middle;\n",
       "    }\n",
       "\n",
       "    .dataframe tbody tr th {\n",
       "        vertical-align: top;\n",
       "    }\n",
       "\n",
       "    .dataframe thead th {\n",
       "        text-align: right;\n",
       "    }\n",
       "</style>\n",
       "<table border=\"1\" class=\"dataframe\">\n",
       "  <thead>\n",
       "    <tr style=\"text-align: right;\">\n",
       "      <th></th>\n",
       "      <th>Company/Brand</th>\n",
       "      <th>Sector</th>\n",
       "      <th>Stage</th>\n",
       "      <th>Amount</th>\n",
       "      <th>HeadQuarter</th>\n",
       "      <th>What it does</th>\n",
       "    </tr>\n",
       "  </thead>\n",
       "  <tbody>\n",
       "    <tr>\n",
       "      <th>0</th>\n",
       "      <td>TheCollegeFever</td>\n",
       "      <td>Brand Marketing, Event Promotion, Marketing, S...</td>\n",
       "      <td>Seed</td>\n",
       "      <td>250000</td>\n",
       "      <td>Bangalore, Karnataka, India</td>\n",
       "      <td>TheCollegeFever is a hub for fun, fiesta and f...</td>\n",
       "    </tr>\n",
       "    <tr>\n",
       "      <th>1</th>\n",
       "      <td>Happy Cow Dairy</td>\n",
       "      <td>Agriculture, Farming</td>\n",
       "      <td>Seed</td>\n",
       "      <td>₹40,000,000</td>\n",
       "      <td>Mumbai, Maharashtra, India</td>\n",
       "      <td>A startup which aggregates milk from dairy far...</td>\n",
       "    </tr>\n",
       "    <tr>\n",
       "      <th>2</th>\n",
       "      <td>MyLoanCare</td>\n",
       "      <td>Credit, Financial Services, Lending, Marketplace</td>\n",
       "      <td>Series A</td>\n",
       "      <td>₹65,000,000</td>\n",
       "      <td>Gurgaon, Haryana, India</td>\n",
       "      <td>Leading Online Loans Marketplace in India</td>\n",
       "    </tr>\n",
       "    <tr>\n",
       "      <th>3</th>\n",
       "      <td>PayMe India</td>\n",
       "      <td>Financial Services, FinTech</td>\n",
       "      <td>Angel</td>\n",
       "      <td>2000000</td>\n",
       "      <td>Noida, Uttar Pradesh, India</td>\n",
       "      <td>PayMe India is an innovative FinTech organizat...</td>\n",
       "    </tr>\n",
       "    <tr>\n",
       "      <th>4</th>\n",
       "      <td>Eunimart</td>\n",
       "      <td>E-Commerce Platforms, Retail, SaaS</td>\n",
       "      <td>Seed</td>\n",
       "      <td>—</td>\n",
       "      <td>Hyderabad, Andhra Pradesh, India</td>\n",
       "      <td>Eunimart is a one stop solution for merchants ...</td>\n",
       "    </tr>\n",
       "  </tbody>\n",
       "</table>\n",
       "</div>"
      ],
      "text/plain": [
       "     Company/Brand                                             Sector  \\\n",
       "0  TheCollegeFever  Brand Marketing, Event Promotion, Marketing, S...   \n",
       "1  Happy Cow Dairy                               Agriculture, Farming   \n",
       "2       MyLoanCare   Credit, Financial Services, Lending, Marketplace   \n",
       "3      PayMe India                        Financial Services, FinTech   \n",
       "4         Eunimart                 E-Commerce Platforms, Retail, SaaS   \n",
       "\n",
       "      Stage       Amount                       HeadQuarter  \\\n",
       "0      Seed       250000       Bangalore, Karnataka, India   \n",
       "1      Seed  ₹40,000,000        Mumbai, Maharashtra, India   \n",
       "2  Series A  ₹65,000,000           Gurgaon, Haryana, India   \n",
       "3     Angel      2000000       Noida, Uttar Pradesh, India   \n",
       "4      Seed            —  Hyderabad, Andhra Pradesh, India   \n",
       "\n",
       "                                        What it does  \n",
       "0  TheCollegeFever is a hub for fun, fiesta and f...  \n",
       "1  A startup which aggregates milk from dairy far...  \n",
       "2          Leading Online Loans Marketplace in India  \n",
       "3  PayMe India is an innovative FinTech organizat...  \n",
       "4  Eunimart is a one stop solution for merchants ...  "
      ]
     },
     "execution_count": 24,
     "metadata": {},
     "output_type": "execute_result"
    }
   ],
   "source": [
    "data3.head(5)"
   ]
  },
  {
   "cell_type": "code",
   "execution_count": 25,
   "metadata": {},
   "outputs": [
    {
     "data": {
      "text/html": [
       "<div>\n",
       "<style scoped>\n",
       "    .dataframe tbody tr th:only-of-type {\n",
       "        vertical-align: middle;\n",
       "    }\n",
       "\n",
       "    .dataframe tbody tr th {\n",
       "        vertical-align: top;\n",
       "    }\n",
       "\n",
       "    .dataframe thead th {\n",
       "        text-align: right;\n",
       "    }\n",
       "</style>\n",
       "<table border=\"1\" class=\"dataframe\">\n",
       "  <thead>\n",
       "    <tr style=\"text-align: right;\">\n",
       "      <th></th>\n",
       "      <th>Company/Brand</th>\n",
       "      <th>Founded</th>\n",
       "      <th>HeadQuarter</th>\n",
       "      <th>Sector</th>\n",
       "      <th>What it does</th>\n",
       "      <th>Founders</th>\n",
       "      <th>Investor</th>\n",
       "      <th>Amount</th>\n",
       "      <th>Stage</th>\n",
       "    </tr>\n",
       "  </thead>\n",
       "  <tbody>\n",
       "    <tr>\n",
       "      <th>0</th>\n",
       "      <td>Aqgromalin</td>\n",
       "      <td>2019.0</td>\n",
       "      <td>Chennai</td>\n",
       "      <td>AgriTech</td>\n",
       "      <td>Cultivating Ideas for Profit</td>\n",
       "      <td>Prasanna Manogaran, Bharani C L</td>\n",
       "      <td>Angel investors</td>\n",
       "      <td>200000.0</td>\n",
       "      <td>None</td>\n",
       "    </tr>\n",
       "  </tbody>\n",
       "</table>\n",
       "</div>"
      ],
      "text/plain": [
       "  Company/Brand  Founded HeadQuarter    Sector                  What it does  \\\n",
       "0    Aqgromalin   2019.0     Chennai  AgriTech  Cultivating Ideas for Profit   \n",
       "\n",
       "                          Founders         Investor    Amount Stage  \n",
       "0  Prasanna Manogaran, Bharani C L  Angel investors  200000.0  None  "
      ]
     },
     "execution_count": 25,
     "metadata": {},
     "output_type": "execute_result"
    }
   ],
   "source": [
    "data.head(1)"
   ]
  },
  {
   "cell_type": "code",
   "execution_count": 26,
   "metadata": {},
   "outputs": [
    {
     "data": {
      "text/html": [
       "<div>\n",
       "<style scoped>\n",
       "    .dataframe tbody tr th:only-of-type {\n",
       "        vertical-align: middle;\n",
       "    }\n",
       "\n",
       "    .dataframe tbody tr th {\n",
       "        vertical-align: top;\n",
       "    }\n",
       "\n",
       "    .dataframe thead th {\n",
       "        text-align: right;\n",
       "    }\n",
       "</style>\n",
       "<table border=\"1\" class=\"dataframe\">\n",
       "  <thead>\n",
       "    <tr style=\"text-align: right;\">\n",
       "      <th></th>\n",
       "      <th>Company/Brand</th>\n",
       "      <th>Founded</th>\n",
       "      <th>HeadQuarter</th>\n",
       "      <th>Sector</th>\n",
       "      <th>What it does</th>\n",
       "      <th>Founders</th>\n",
       "      <th>Investor</th>\n",
       "      <th>Amount</th>\n",
       "      <th>Stage</th>\n",
       "    </tr>\n",
       "  </thead>\n",
       "  <tbody>\n",
       "    <tr>\n",
       "      <th>0</th>\n",
       "      <td>Unbox Robotics</td>\n",
       "      <td>2019.0</td>\n",
       "      <td>Bangalore</td>\n",
       "      <td>AI startup</td>\n",
       "      <td>Unbox Robotics builds on-demand AI-driven ware...</td>\n",
       "      <td>Pramod Ghadge, Shahid Memon</td>\n",
       "      <td>BEENEXT, Entrepreneur First</td>\n",
       "      <td>$1,200,000</td>\n",
       "      <td>Pre-series A</td>\n",
       "    </tr>\n",
       "  </tbody>\n",
       "</table>\n",
       "</div>"
      ],
      "text/plain": [
       "    Company/Brand  Founded HeadQuarter      Sector  \\\n",
       "0  Unbox Robotics   2019.0   Bangalore  AI startup   \n",
       "\n",
       "                                        What it does  \\\n",
       "0  Unbox Robotics builds on-demand AI-driven ware...   \n",
       "\n",
       "                      Founders                     Investor      Amount  \\\n",
       "0  Pramod Ghadge, Shahid Memon  BEENEXT, Entrepreneur First  $1,200,000   \n",
       "\n",
       "          Stage  \n",
       "0  Pre-series A  "
      ]
     },
     "execution_count": 26,
     "metadata": {},
     "output_type": "execute_result"
    }
   ],
   "source": [
    "data1.head(1)"
   ]
  },
  {
   "cell_type": "code",
   "execution_count": 27,
   "metadata": {},
   "outputs": [
    {
     "data": {
      "text/html": [
       "<div>\n",
       "<style scoped>\n",
       "    .dataframe tbody tr th:only-of-type {\n",
       "        vertical-align: middle;\n",
       "    }\n",
       "\n",
       "    .dataframe tbody tr th {\n",
       "        vertical-align: top;\n",
       "    }\n",
       "\n",
       "    .dataframe thead th {\n",
       "        text-align: right;\n",
       "    }\n",
       "</style>\n",
       "<table border=\"1\" class=\"dataframe\">\n",
       "  <thead>\n",
       "    <tr style=\"text-align: right;\">\n",
       "      <th></th>\n",
       "      <th>Company/Brand</th>\n",
       "      <th>Founded</th>\n",
       "      <th>HeadQuarter</th>\n",
       "      <th>Sector</th>\n",
       "      <th>What it does</th>\n",
       "      <th>Founders</th>\n",
       "      <th>Investor</th>\n",
       "      <th>Amount</th>\n",
       "      <th>Stage</th>\n",
       "    </tr>\n",
       "  </thead>\n",
       "  <tbody>\n",
       "    <tr>\n",
       "      <th>0</th>\n",
       "      <td>Bombay Shaving</td>\n",
       "      <td>NaN</td>\n",
       "      <td>NaN</td>\n",
       "      <td>Ecommerce</td>\n",
       "      <td>Provides a range of male grooming products</td>\n",
       "      <td>Shantanu Deshpande</td>\n",
       "      <td>Sixth Sense Ventures</td>\n",
       "      <td>$6,300,000</td>\n",
       "      <td>NaN</td>\n",
       "    </tr>\n",
       "  </tbody>\n",
       "</table>\n",
       "</div>"
      ],
      "text/plain": [
       "    Company/Brand  Founded HeadQuarter     Sector  \\\n",
       "0  Bombay Shaving      NaN         NaN  Ecommerce   \n",
       "\n",
       "                                 What it does            Founders  \\\n",
       "0  Provides a range of male grooming products  Shantanu Deshpande   \n",
       "\n",
       "               Investor      Amount Stage  \n",
       "0  Sixth Sense Ventures  $6,300,000   NaN  "
      ]
     },
     "execution_count": 27,
     "metadata": {},
     "output_type": "execute_result"
    }
   ],
   "source": [
    "data2.head(1)"
   ]
  },
  {
   "cell_type": "code",
   "execution_count": 28,
   "metadata": {},
   "outputs": [
    {
     "data": {
      "text/html": [
       "<div>\n",
       "<style scoped>\n",
       "    .dataframe tbody tr th:only-of-type {\n",
       "        vertical-align: middle;\n",
       "    }\n",
       "\n",
       "    .dataframe tbody tr th {\n",
       "        vertical-align: top;\n",
       "    }\n",
       "\n",
       "    .dataframe thead th {\n",
       "        text-align: right;\n",
       "    }\n",
       "</style>\n",
       "<table border=\"1\" class=\"dataframe\">\n",
       "  <thead>\n",
       "    <tr style=\"text-align: right;\">\n",
       "      <th></th>\n",
       "      <th>Company/Brand</th>\n",
       "      <th>Sector</th>\n",
       "      <th>Stage</th>\n",
       "      <th>Amount</th>\n",
       "      <th>HeadQuarter</th>\n",
       "      <th>What it does</th>\n",
       "    </tr>\n",
       "  </thead>\n",
       "  <tbody>\n",
       "    <tr>\n",
       "      <th>0</th>\n",
       "      <td>TheCollegeFever</td>\n",
       "      <td>Brand Marketing, Event Promotion, Marketing, S...</td>\n",
       "      <td>Seed</td>\n",
       "      <td>250000</td>\n",
       "      <td>Bangalore, Karnataka, India</td>\n",
       "      <td>TheCollegeFever is a hub for fun, fiesta and f...</td>\n",
       "    </tr>\n",
       "  </tbody>\n",
       "</table>\n",
       "</div>"
      ],
      "text/plain": [
       "     Company/Brand                                             Sector Stage  \\\n",
       "0  TheCollegeFever  Brand Marketing, Event Promotion, Marketing, S...  Seed   \n",
       "\n",
       "   Amount                  HeadQuarter  \\\n",
       "0  250000  Bangalore, Karnataka, India   \n",
       "\n",
       "                                        What it does  \n",
       "0  TheCollegeFever is a hub for fun, fiesta and f...  "
      ]
     },
     "execution_count": 28,
     "metadata": {},
     "output_type": "execute_result"
    }
   ],
   "source": [
    "data3.head(1)"
   ]
  },
  {
   "cell_type": "markdown",
   "metadata": {},
   "source": [
    "### CONCATENATED DATESET\n"
   ]
  },
  {
   "cell_type": "code",
   "execution_count": 29,
   "metadata": {},
   "outputs": [],
   "source": [
    "\n",
    "main_df = pd.concat([data, data1, data2, data3], ignore_index=True)"
   ]
  },
  {
   "cell_type": "code",
   "execution_count": 30,
   "metadata": {},
   "outputs": [
    {
     "data": {
      "text/plain": [
       "Index(['Company/Brand', 'Founded', 'HeadQuarter', 'Sector', 'What it does',\n",
       "       'Founders', 'Investor', 'Amount', 'Stage'],\n",
       "      dtype='object')"
      ]
     },
     "execution_count": 30,
     "metadata": {},
     "output_type": "execute_result"
    }
   ],
   "source": [
    "main_df.columns"
   ]
  },
  {
   "cell_type": "code",
   "execution_count": 31,
   "metadata": {},
   "outputs": [
    {
     "name": "stdout",
     "output_type": "stream",
     "text": [
      "<class 'pandas.core.frame.DataFrame'>\n",
      "RangeIndex: 2879 entries, 0 to 2878\n",
      "Data columns (total 9 columns):\n",
      " #   Column         Non-Null Count  Dtype  \n",
      "---  ------         --------------  -----  \n",
      " 0   Company/Brand  2879 non-null   object \n",
      " 1   Founded        2110 non-null   float64\n",
      " 2   HeadQuarter    2765 non-null   object \n",
      " 3   Sector         2861 non-null   object \n",
      " 4   What it does   2879 non-null   object \n",
      " 5   Founders       2334 non-null   object \n",
      " 6   Investor       2253 non-null   object \n",
      " 7   Amount         2622 non-null   object \n",
      " 8   Stage          1941 non-null   object \n",
      "dtypes: float64(1), object(8)\n",
      "memory usage: 202.6+ KB\n"
     ]
    }
   ],
   "source": [
    "main_df.info()"
   ]
  },
  {
   "cell_type": "markdown",
   "metadata": {},
   "source": [
    "## CLEANING AMOUNT COLUMN"
   ]
  },
  {
   "cell_type": "code",
   "execution_count": 32,
   "metadata": {},
   "outputs": [
    {
     "data": {
      "text/plain": [
       "array([200000.0, 100000.0, nan, 400000.0, 340000.0, 600000.0, 45000000.0,\n",
       "       1000000.0, 2000000.0, 1200000.0, 660000000.0, 120000.0, 7500000.0,\n",
       "       5000000.0, 500000.0, 3000000.0, 10000000.0, 145000000.0,\n",
       "       100000000.0, 21000000.0, 4000000.0, 20000000.0, 560000.0, 275000.0,\n",
       "       4500000.0, 15000000.0, 390000000.0, 7000000.0, 5100000.0,\n",
       "       700000000.0, 2300000.0, 700000.0, 19000000.0, 9000000.0,\n",
       "       40000000.0, 750000.0, 1500000.0, 7800000.0, 50000000.0, 80000000.0,\n",
       "       30000000.0, 1700000.0, 2500000.0, 40000.0, 33000000.0, 35000000.0,\n",
       "       300000.0, 25000000.0, 3500000.0, 200000000.0, 6000000.0, 1300000.0,\n",
       "       4100000.0, 575000.0, 800000.0, 28000000.0, 18000000.0, 3200000.0,\n",
       "       900000.0, 250000.0, 4700000.0, 75000000.0, 8000000.0, 121000000.0,\n",
       "       55000000.0, 3300000.0, 11000000.0, 16000000.0, 5400000.0,\n",
       "       150000000.0, 4200000.0, 22000000.0, 52000000.0, 1100000.0,\n",
       "       118000000.0, 1600000.0, 18500000.0, 70000000000.0, 800000000.0,\n",
       "       400000000.0, 150000.0, 176000000.0, 60000000.0, 470000.0, 240000.0,\n",
       "       3000000000.0, 74000000.0, 62000000.0, 2100000.0, 500000000.0,\n",
       "       12500000.0, 2200000000.0, 5060000.0, 225000000.0, 24700000.0,\n",
       "       7700000.0, 19067328.0, 51000000.0, 115000.0, 54000.0, 20000.0,\n",
       "       803146.0, 238000.0, 10220000.0, 1020000.0, 12000000.0, 13400000.0,\n",
       "       170000000.0, 2900000.0, 543000.0, 90000000.0, 3400000.0,\n",
       "       23000000.0, 8090000.0, 1030000.0, 5040000.0, 360000.0, 1400000.0,\n",
       "       650000.0, 54000000.0, 42500000.0, 11370000.0, 325000.0, 410000.0,\n",
       "       450000.0, 682000.0, 4050000.0, 1050000.0, 1080000.0, 4300000.0,\n",
       "       6800000.0, 2110000.0, 764000.0, 603000.0, 409000.0, 292000.0,\n",
       "       286000.0, 136000.0, 546000.0, 887000.0, 43000.0, 40900.0,\n",
       "       2200000.0, 5660000.0, 350000.0, 110000.0, 122000000.0, 11635000.0,\n",
       "       2800000.0, 1065000.0, 669000.0, 16076000.0, 649600.0, 6700000.0,\n",
       "       220000.0, 266500.0, 2879000.0, 26500000.0, 351000.0, 46761000.0,\n",
       "       175000.0, 11241000.0, 804000.0, 1340000.0, 467000.0, 133000.0,\n",
       "       3823000.0, 934000.0, 293000.0, 198000.0, 927000.0, 971000.0,\n",
       "       3060000.0, 1862000.0, 232000.0, 2888000.0, 1328000.0, 15500000.0,\n",
       "       56000000.0, 2250000.0, 16753000.0, 3700000.0, 1470000.0, 530000.0,\n",
       "       267000.0, 3344000.0, 7200000.0, 2743000.0, 6082000.0, 6609000.0,\n",
       "       27700000.0, 5940000.0, 3964000.0, 5500000.0, 197000.0, 4327000.0,\n",
       "       459000.0, 3937000.0, 1313500.0, 229800.0, 5305000.0, 264000.0,\n",
       "       1750000.0, 5967000.0, 2980000.0, 323000.0, 1326000.0, 27000000.0,\n",
       "       5200000.0, 2530000.0, 792000.0, 11363000.0, 1715000.0, 329000.0,\n",
       "       5271000.0, 8700000.0, 3226000.0, 5900000.0, 44000000.0, 3879000.0,\n",
       "       13000000.0, 8800000.0, 9500000.0, 920000.0, 35600000.0, 9400000.0,\n",
       "       790000.0, 480000.0, 160000.0, 8200000.0, 4257000.0, 1410000.0,\n",
       "       349800.0, 786000.0, 2004000.0, 123000000.0, 248000.0, 24000000.0,\n",
       "       14259000.0, 24500000.0, 3800000.0, 18370000.0, 68525000.0,\n",
       "       4800000.0, 1834000.0, 23850000.0, 43000000.0, 21600000.0,\n",
       "       4598000.0, 13137000.0, 115000000.0, 3900000.0, 670000.0, 8500000.0,\n",
       "       3148000.0, 2600000.0, 4049500.0, 10500000.0, 6500000.0, 43700000.0,\n",
       "       13800000.0, 306900.0, 420000.0, 627300.0, 113000000.0, 32000000.0,\n",
       "       110000000.0, 1397000.0, 448500.0, 7975700.0, 330000.0, 5600000.0,\n",
       "       1402000.0, 21500000.0, 296000000.0, 4900000.0, 1402400.0,\n",
       "       12618300.0, 9900000.0, 982530.0, 70185200.0, 210000000.0,\n",
       "       84000000.0, 39000000.0, 2700000.0, 1403400.0, 105000000.0,\n",
       "       103000000.0, 281300.0, 12700.0, 25000.0, 97500000.0, 507000.0,\n",
       "       8400000.0, 18300000.0, 125000000.0, 181000.0, 280000.0, 14700000.0,\n",
       "       13200000.0, 8043000.0, '$1,200,000', '$120,000,000', '$30,000,000',\n",
       "       '$51,000,000', '$2,000,000', '$188,000,000', '$200,000',\n",
       "       'Undisclosed', '$1,000,000', '$3,000,000', '$100,000', '$700,000',\n",
       "       '$9,000,000', '$40,000,000', '$49,000,000', '$400,000', '$300,000',\n",
       "       '$25,000,000', '$160,000,000', '$150,000', '$1,800,000',\n",
       "       '$5,000,000', '$850,000', '$53,000,000', '$500,000', '$1,100,000',\n",
       "       '$6,000,000', '$800,000', '$10,000,000', '$21,000,000',\n",
       "       '$7,500,000', '$26,000,000', '$7,400,000', '$1,500,000',\n",
       "       '$600,000', '$800,000,000', '$17,000,000', '$3,500,000',\n",
       "       '$15,000,000', '$215,000,000', '$2,500,000', '$350,000,000',\n",
       "       '$5,500,000', '$83,000,000', '$110,000,000', '$500,000,000',\n",
       "       '$65,000,000', '$150,000,000,000', '$300,000,000', '$2,200,000',\n",
       "       '$35,000,000', '$140,000,000', '$4,000,000', '$13,000,000', None,\n",
       "       '$Undisclosed', '$2000000', '$800000', '$6000000', '$2500000',\n",
       "       '$9500000', '$13000000', '$5000000', '$8000000', '$1000000',\n",
       "       'Upsparks', '$200000', '$12000000', '$1500000', '$1700000',\n",
       "       '$5500000', '$400000', '$150000000', '$4000000', '$100000000',\n",
       "       '$500000', '$15000000', '$10000000', '$40000000', '$225000000',\n",
       "       '$6700000', '$1300000', '$20000000', '$250000', '$21000000',\n",
       "       '$1200000', '$52000000', '$3800000', '$17500000', '$42000000',\n",
       "       '$2300000', '$7000000', '$30000000', '$450000000', '$28000000',\n",
       "       '$300000', '$3500000', '$8500000', '$25000000', '$3000000',\n",
       "       '$37000000', '$370000000', '$700000', '$16000000', '$100000',\n",
       "       '$44000000', '$770000', '$125000000', '$35000000', '$50000000',\n",
       "       '$4900000', '$145000000', '$22000000', '$70000000', '$6600000',\n",
       "       '$32000000', '$24000000', '$725000', '$461000', 'Series C', 'Seed',\n",
       "       '$96000000', '$60000000', '$500000000', '$266000000', '$4500000',\n",
       "       '$325000000', '$6500000', '$1600000', '$150000', '$225000',\n",
       "       '$85000000', '$235000', '$260000', '$2900000', '$53000000',\n",
       "       '$1100000', '$86000000', '$130000', '$$100,00', '$111000000',\n",
       "       '$265000', '$76000000', '$100,000,000', '$75,000,000',\n",
       "       '$3,800,000', '$12,000,000', '$1,600,000', '$260,000',\n",
       "       '$1,000,000,000', '$18,000,000', '$20,000,000', '$350,000',\n",
       "       '$95,000,000', '$4,100,000', '$5,200,000', '$8,000,000',\n",
       "       '$1,400,000', '$2,600,000', '$900,000', '$250,000', '$16,000,000',\n",
       "       '$7,000,000', '$11,000,000', '$280,000,000', '$50,000,000',\n",
       "       '$14,300,000', '$81,000,000', '$1,300,000', '$8,200,000',\n",
       "       '$70,000,000', '$720,000', '$600000', '$9000000', '$1800000',\n",
       "       '$330000', '$undisclosed', '$200000000', '$36000000', '$67000000',\n",
       "       '$10200000', '$220000000', '$108000000', '$75000000', '$450000',\n",
       "       '$660000000', 'ah! Ventures', '$45000000', '$3200000', '$370000',\n",
       "       'Pre-series A', 'ITO Angel Network, LetsVenture', '$48000000',\n",
       "       '$3600000', '$11000000', '$192000000', '$65000000', '$1400000',\n",
       "       '$1900000', '$41000000', '$144000000', '$5200000', '$270000000',\n",
       "       '$140000', '$250000000', '$320000', '$350000000', '$4800000',\n",
       "       '$38000000', '$125000', '$26000000', '$64000000', '$620000',\n",
       "       '$900000', 'JITO Angel Network, LetsVenture', '$2600000',\n",
       "       '$1,250,000', '$400,000,000', '$1,700,000', '$27,000,000',\n",
       "       '$234,000,000', '$460,000,000', '$13,500,000', '$5,100,000',\n",
       "       '$195,000,000', '$125,000', '$45,000,000', '$200,000,000',\n",
       "       '$7,300,000', '$6,300,000', '$12,500,000', '$24,000,000',\n",
       "       '$140,000', '$16,500,000', '$340,000', '$43,000,000',\n",
       "       '$150,000,000', '$3300000', '$92000000', '$17000000', '$135000000',\n",
       "       '$$1,55,000', '$2100000', '$840000000', '$248000000', '$4300000',\n",
       "       '$570000', '$2200000', '$4700000', '$300000000', '$260000000',\n",
       "       '$140000000', '$175000000', '$19000000', '$810000', '$7500000',\n",
       "       '$600000000', '$90000000', '$5700000', '$6750000', '$78000000',\n",
       "       '$5400000', '$115000000', '$255000000', '$18000000', '$570000000',\n",
       "       '$550000', '$2700000', '$4200000', '$31000000', '$540000',\n",
       "       '$14000000', '$340000', '$', '$6200000', '$750000', '$6300000',\n",
       "       '$23000000', '$55000000', '$28,000,000', '$275,000,000',\n",
       "       '$22,000,000', '$140,500', '$540,000,000', '$182,700',\n",
       "       '$15,500,000', '$230,000,000', '$49,400,000', '$32,000,000',\n",
       "       '$6,800,000', '$36,000,000', '$5,700,000', '$60,000,000',\n",
       "       '$220,000', '$2,800,000', '$2,100,000', '$311,000,000',\n",
       "       '$4,800,000', '$693,000,000', '$33,000,000', '250000',\n",
       "       '₹40,000,000', '₹65,000,000', '2000000', '—', '1600000',\n",
       "       '₹16,000,000', '₹50,000,000', '₹100,000,000', '150000', '1100000',\n",
       "       '₹500,000', '6000000', '650000', '₹35,000,000', '₹64,000,000',\n",
       "       '₹20,000,000', '1000000', '5000000', '4000000', '₹30,000,000',\n",
       "       '2800000', '1700000', '1300000', '₹5,000,000', '₹12,500,000',\n",
       "       '₹15,000,000', '500000', '₹104,000,000', '₹45,000,000', '13400000',\n",
       "       '₹25,000,000', '₹26,400,000', '₹8,000,000', '₹60,000', '9000000',\n",
       "       '100000', '20000', '120000', '₹34,000,000', '₹342,000,000',\n",
       "       '$143,145', '₹600,000,000', '$742,000,000', '₹1,000,000,000',\n",
       "       '₹2,000,000,000', '$3,980,000', '$10,000', '₹100,000',\n",
       "       '₹250,000,000', '₹550,000,000', '$28,500,000', '₹240,000,000',\n",
       "       '₹120,000,000', '$2,400,000', '₹2,500,000,000', '$23,000,000',\n",
       "       '₹44,000,000', '$3,240,000', '₹60,000,000', '₹650,000,000',\n",
       "       '₹1,600,000,000', '₹70,000,000', '$14,000,000', '₹102,500,000',\n",
       "       '₹1,200,000', '₹5,200,000,000', '$1,041,000', '$15,000', '1400000',\n",
       "       '1200000', '2200000', '1800000', '3600000', '₹9,500,000', '300000',\n",
       "       '6830000', '200000', '₹150,000,000', '4300000', '364846', '400000',\n",
       "       '1500000', '₹7,000,000', '₹1,400,000', '₹10,000,000',\n",
       "       '₹22,500,000', '13200000', '50000', '₹140,200,000', '3000000',\n",
       "       '1250000', '180000', '₹19,200,000', '₹103,000,000', '4200000',\n",
       "       '175000', '1450000', '₹200,000', '4500000', '600000',\n",
       "       '₹16,600,000', '₹12,000,000', '15000000', '₹33,000,000', '125000',\n",
       "       '130000', '₹34,900,000', '₹72,000,000', '17200000', '₹32,000,000',\n",
       "       '3500000', '₹135,000,000', '12000000', '₹1,540,000,000',\n",
       "       '₹140,000,000', '$41,900,000', '₹1,410,000,000', '$3,530,000',\n",
       "       '$3,300,000', '₹580,000,000', '₹36,000,000', '₹340,000,000',\n",
       "       '$210,000,000', '$37,680,000', '$20,000', '₹510,000,000',\n",
       "       '₹2,200,000,000', '22000000', '70000', '10000000',\n",
       "       '₹15,392,000,000', '₹20,000,000,000', '₹4,000,000,000',\n",
       "       '185000000', '65000000', '₹165,000,000', '700000', '30000000',\n",
       "       '₹210,000,000', '210000000', '₹2,029,600,000', '75000000',\n",
       "       '₹80,000,000', '1760000', '2700000', '₹280,000,000',\n",
       "       '₹800,000,000', '750000', '2500000', '80000000', '25000000',\n",
       "       '₹730,000,000', '₹400,000,000', '3700000', '5600000',\n",
       "       '₹260,000,000', '99230000', '70000000', '40000', '550000',\n",
       "       '50000000', '365000000', '₹8,750,000', '₹78,000,000', '28000000',\n",
       "       '₹264,000,000', '100000000', '₹1,130,000,000', '₹810,000,000',\n",
       "       '₹1,400,000,000', '14900000', '225000000', '7500', '35000000'],\n",
       "      dtype=object)"
      ]
     },
     "execution_count": 32,
     "metadata": {},
     "output_type": "execute_result"
    }
   ],
   "source": [
    "main_df['Amount'].unique()"
   ]
  },
  {
   "cell_type": "code",
   "execution_count": 33,
   "metadata": {},
   "outputs": [
    {
     "name": "stdout",
     "output_type": "stream",
     "text": [
      "0    200000.0\n",
      "1    100000.0\n",
      "2         NaN\n",
      "3    400000.0\n",
      "4    340000.0\n",
      "Name: Amount, dtype: float64\n"
     ]
    }
   ],
   "source": [
    "# Function to convert rupees to dollars\n",
    "def convert_to_dollars(amount):\n",
    "    if pd.isnull(amount):\n",
    "        return np.nan\n",
    "    amount_str = str(amount).replace(',', '').strip()  # Remove commas and strip whitespace\n",
    "    if amount_str.startswith('₹'):\n",
    "        try:\n",
    "            return float(amount_str[1:]) * 0.0146  # Convert Rupees to Dollars\n",
    "        except ValueError:\n",
    "            return np.nan\n",
    "    elif amount_str.startswith('$'):\n",
    "        try:\n",
    "            return float(amount_str[1:])  # Keep the dollar amount as is\n",
    "        except ValueError:\n",
    "            return np.nan\n",
    "    else:\n",
    "        try:\n",
    "            return float(amount_str)  # Convert to float for other numeric values\n",
    "        except ValueError:\n",
    "            return np.nan  # Handle non-numeric values\n",
    "\n",
    "# Apply the conversion function to the Amount column\n",
    "main_df['Amount'] = main_df['Amount'].apply(convert_to_dollars)\n",
    "\n",
    "# Display the cleaned Amount column\n",
    "print(main_df['Amount'].head(5))"
   ]
  },
  {
   "cell_type": "code",
   "execution_count": 34,
   "metadata": {},
   "outputs": [
    {
     "name": "stdout",
     "output_type": "stream",
     "text": [
      "[2.0000000e+05 1.0000000e+05 3.0000000e+06 4.0000000e+05 3.4000000e+05\n",
      " 6.0000000e+05 4.5000000e+07 1.0000000e+06 2.0000000e+06 1.2000000e+06\n",
      " 6.6000000e+08 1.2000000e+05 7.5000000e+06 5.0000000e+06 5.0000000e+05\n",
      " 1.0000000e+07 1.4500000e+08 1.0000000e+08 2.1000000e+07 4.0000000e+06\n",
      " 2.0000000e+07 5.6000000e+05 2.7500000e+05 4.5000000e+06 1.5000000e+07\n",
      " 3.9000000e+08 7.0000000e+06 5.1000000e+06 7.0000000e+08 2.3000000e+06\n",
      " 7.0000000e+05 1.9000000e+07 9.0000000e+06 4.0000000e+07 7.5000000e+05\n",
      " 1.5000000e+06 7.8000000e+06 5.0000000e+07 8.0000000e+07 3.0000000e+07\n",
      " 1.7000000e+06 2.5000000e+06 4.0000000e+04 3.3000000e+07 3.5000000e+07\n",
      " 3.0000000e+05 2.5000000e+07 3.5000000e+06 2.0000000e+08 6.0000000e+06\n",
      " 1.3000000e+06 4.1000000e+06 5.7500000e+05 8.0000000e+05 2.8000000e+07\n",
      " 1.8000000e+07 3.2000000e+06 9.0000000e+05 2.5000000e+05 4.7000000e+06\n",
      " 7.5000000e+07 8.0000000e+06 1.2100000e+08 5.5000000e+07 3.3000000e+06\n",
      " 1.1000000e+07 1.6000000e+07 5.4000000e+06 1.5000000e+08 4.2000000e+06\n",
      " 2.2000000e+07 5.2000000e+07 1.1000000e+06 1.1800000e+08 1.6000000e+06\n",
      " 1.8500000e+07 7.0000000e+10 8.0000000e+08 4.0000000e+08 1.5000000e+05\n",
      " 1.7600000e+08 6.0000000e+07 4.7000000e+05 2.4000000e+05 3.0000000e+09\n",
      " 7.4000000e+07 6.2000000e+07 2.1000000e+06 5.0000000e+08 1.2500000e+07\n",
      " 2.2000000e+09 5.0600000e+06 2.2500000e+08 2.4700000e+07 7.7000000e+06\n",
      " 1.9067328e+07 5.1000000e+07 1.1500000e+05 5.4000000e+04 2.0000000e+04\n",
      " 8.0314600e+05 2.3800000e+05 1.0220000e+07 1.0200000e+06 1.2000000e+07\n",
      " 1.3400000e+07 1.7000000e+08 2.9000000e+06 5.4300000e+05 9.0000000e+07\n",
      " 3.4000000e+06 2.3000000e+07 8.0900000e+06 1.0300000e+06 5.0400000e+06\n",
      " 3.6000000e+05 1.4000000e+06 6.5000000e+05 5.4000000e+07 4.2500000e+07\n",
      " 1.1370000e+07 3.2500000e+05 4.1000000e+05 4.5000000e+05 6.8200000e+05\n",
      " 4.0500000e+06 1.0500000e+06 1.0800000e+06 4.3000000e+06 6.8000000e+06\n",
      " 2.1100000e+06 7.6400000e+05 6.0300000e+05 4.0900000e+05 2.9200000e+05\n",
      " 2.8600000e+05 1.3600000e+05 5.4600000e+05 8.8700000e+05 4.3000000e+04\n",
      " 4.0900000e+04 2.2000000e+06 5.6600000e+06 3.5000000e+05 1.1000000e+05\n",
      " 1.2200000e+08 1.1635000e+07 2.8000000e+06 1.0650000e+06 6.6900000e+05\n",
      " 1.6076000e+07 6.4960000e+05 6.7000000e+06 2.2000000e+05 2.6650000e+05\n",
      " 2.8790000e+06 2.6500000e+07 3.5100000e+05 4.6761000e+07 1.7500000e+05\n",
      " 1.1241000e+07 8.0400000e+05 1.3400000e+06 4.6700000e+05 1.3300000e+05\n",
      " 3.8230000e+06 9.3400000e+05 2.9300000e+05 1.9800000e+05 9.2700000e+05\n",
      " 9.7100000e+05 3.0600000e+06 1.8620000e+06 2.3200000e+05 2.8880000e+06\n",
      " 1.3280000e+06 1.5500000e+07 5.6000000e+07 2.2500000e+06 1.6753000e+07\n",
      " 3.7000000e+06 1.4700000e+06 5.3000000e+05 2.6700000e+05 3.3440000e+06\n",
      " 7.2000000e+06 2.7430000e+06 6.0820000e+06 6.6090000e+06 2.7700000e+07\n",
      " 5.9400000e+06 3.9640000e+06 5.5000000e+06 1.9700000e+05 4.3270000e+06\n",
      " 4.5900000e+05 3.9370000e+06 1.3135000e+06 2.2980000e+05 5.3050000e+06\n",
      " 2.6400000e+05 1.7500000e+06 5.9670000e+06 2.9800000e+06 3.2300000e+05\n",
      " 1.3260000e+06 2.7000000e+07 5.2000000e+06 2.5300000e+06 7.9200000e+05\n",
      " 1.1363000e+07 1.7150000e+06 3.2900000e+05 5.2710000e+06 8.7000000e+06\n",
      " 3.2260000e+06 5.9000000e+06 4.4000000e+07 3.8790000e+06 1.3000000e+07\n",
      " 8.8000000e+06 9.5000000e+06 9.2000000e+05 3.5600000e+07 9.4000000e+06\n",
      " 7.9000000e+05 4.8000000e+05 1.6000000e+05 8.2000000e+06 4.2570000e+06\n",
      " 1.4100000e+06 3.4980000e+05 7.8600000e+05 2.0040000e+06 1.2300000e+08\n",
      " 2.4800000e+05 2.4000000e+07 1.4259000e+07 2.4500000e+07 3.8000000e+06\n",
      " 1.8370000e+07 6.8525000e+07 4.8000000e+06 1.8340000e+06 2.3850000e+07\n",
      " 4.3000000e+07 2.1600000e+07 4.5980000e+06 1.3137000e+07 1.1500000e+08\n",
      " 3.9000000e+06 6.7000000e+05 8.5000000e+06 3.1480000e+06 2.6000000e+06\n",
      " 4.0495000e+06 1.0500000e+07 6.5000000e+06 4.3700000e+07 1.3800000e+07\n",
      " 3.0690000e+05 4.2000000e+05 6.2730000e+05 1.1300000e+08 3.2000000e+07\n",
      " 1.1000000e+08 1.3970000e+06 4.4850000e+05 7.9757000e+06 3.3000000e+05\n",
      " 5.6000000e+06 1.4020000e+06 2.1500000e+07 2.9600000e+08 4.9000000e+06\n",
      " 1.4024000e+06 1.2618300e+07 9.9000000e+06 9.8253000e+05 7.0185200e+07\n",
      " 2.1000000e+08 8.4000000e+07 3.9000000e+07 2.7000000e+06 1.4034000e+06\n",
      " 1.0500000e+08 1.0300000e+08 2.8130000e+05 1.2700000e+04 2.5000000e+04\n",
      " 9.7500000e+07 5.0700000e+05 8.4000000e+06 1.8300000e+07 1.2500000e+08\n",
      " 1.8100000e+05 2.8000000e+05 1.4700000e+07 1.3200000e+07 8.0430000e+06\n",
      " 1.2000000e+08 1.8800000e+08 4.9000000e+07 1.6000000e+08 1.8000000e+06\n",
      " 8.5000000e+05 5.3000000e+07 2.6000000e+07 7.4000000e+06 1.7000000e+07\n",
      " 2.1500000e+08 3.5000000e+08 8.3000000e+07 6.5000000e+07 1.5000000e+11\n",
      " 3.0000000e+08 1.4000000e+08 1.7500000e+07 4.2000000e+07 4.5000000e+08\n",
      " 3.7000000e+07 3.7000000e+08 7.7000000e+05 7.0000000e+07 6.6000000e+06\n",
      " 7.2500000e+05 4.6100000e+05 9.6000000e+07 2.6600000e+08 3.2500000e+08\n",
      " 2.2500000e+05 8.5000000e+07 2.3500000e+05 2.6000000e+05 8.6000000e+07\n",
      " 1.3000000e+05 1.1100000e+08 2.6500000e+05 7.6000000e+07 1.0000000e+09\n",
      " 9.5000000e+07 2.8000000e+08 1.4300000e+07 8.1000000e+07 7.2000000e+05\n",
      " 3.6000000e+07 6.7000000e+07 1.0200000e+07 2.2000000e+08 1.0800000e+08\n",
      " 3.7000000e+05 4.8000000e+07 3.6000000e+06 1.9200000e+08 1.9000000e+06\n",
      " 4.1000000e+07 1.4400000e+08 2.7000000e+08 1.4000000e+05 2.5000000e+08\n",
      " 3.2000000e+05 3.8000000e+07 1.2500000e+05 6.4000000e+07 6.2000000e+05\n",
      " 1.2500000e+06 2.3400000e+08 4.6000000e+08 1.3500000e+07 1.9500000e+08\n",
      " 7.3000000e+06 6.3000000e+06 1.6500000e+07 9.2000000e+07 1.3500000e+08\n",
      " 8.4000000e+08 2.4800000e+08 5.7000000e+05 2.6000000e+08 1.7500000e+08\n",
      " 8.1000000e+05 6.0000000e+08 5.7000000e+06 6.7500000e+06 7.8000000e+07\n",
      " 2.5500000e+08 5.7000000e+08 5.5000000e+05 3.1000000e+07 5.4000000e+05\n",
      " 1.4000000e+07 6.2000000e+06 2.7500000e+08 1.4050000e+05 5.4000000e+08\n",
      " 1.8270000e+05 2.3000000e+08 4.9400000e+07 3.1100000e+08 6.9300000e+08\n",
      " 5.8400000e+05 9.4900000e+05 2.3360000e+05 7.3000000e+05 1.4600000e+06\n",
      " 7.3000000e+03 5.1100000e+05 9.3440000e+05 4.3800000e+05 7.3000000e+04\n",
      " 1.8250000e+05 2.1900000e+05 1.5184000e+06 6.5700000e+05 3.6500000e+05\n",
      " 3.8544000e+05 1.1680000e+05 8.7600000e+02 4.9640000e+05 4.9932000e+06\n",
      " 1.4314500e+05 8.7600000e+06 7.4200000e+08 1.4600000e+07 2.9200000e+07\n",
      " 3.9800000e+06 1.0000000e+04 1.4600000e+03 3.6500000e+06 8.0300000e+06\n",
      " 2.8500000e+07 3.5040000e+06 1.7520000e+06 2.4000000e+06 3.6500000e+07\n",
      " 6.4240000e+05 3.2400000e+06 8.7600000e+05 9.4900000e+06 2.3360000e+07\n",
      " 1.0220000e+06 1.4965000e+06 1.7520000e+04 7.5920000e+07 1.0410000e+06\n",
      " 1.5000000e+04 1.3870000e+05 6.8300000e+06 2.1900000e+06 3.6484600e+05\n",
      " 1.0220000e+05 2.0440000e+04 1.4600000e+05 3.2850000e+05 5.0000000e+04\n",
      " 2.0469200e+06 1.8000000e+05 2.8032000e+05 1.5038000e+06 1.4500000e+06\n",
      " 2.9200000e+03 2.4236000e+05 1.7520000e+05 4.8180000e+05 5.0954000e+05\n",
      " 1.0512000e+06 1.7200000e+07 4.6720000e+05 1.9710000e+06 2.2484000e+07\n",
      " 2.0440000e+06 4.1900000e+07 2.0586000e+07 3.5300000e+06 8.4680000e+06\n",
      " 5.2560000e+05 4.9640000e+06 3.7680000e+07 7.4460000e+06 3.2120000e+07\n",
      " 7.0000000e+04 2.2472320e+08 2.9200000e+08 5.8400000e+07 1.8500000e+08\n",
      " 2.4090000e+06 3.0660000e+06 2.9632160e+07 1.1680000e+06 1.7600000e+06\n",
      " 4.0880000e+06 1.1680000e+07 1.0658000e+07 5.8400000e+06 3.7960000e+06\n",
      " 9.9230000e+07 3.6500000e+08 1.2775000e+05 1.1388000e+06 3.8544000e+06\n",
      " 1.6498000e+07 1.1826000e+07 2.0440000e+07 1.4900000e+07 7.5000000e+03]\n"
     ]
    }
   ],
   "source": [
    "# Calculate the median of the 'Amount' column\n",
    "median_value = main_df['Amount'].median()\n",
    "\n",
    "# Fill NaN values with the median\n",
    "main_df['Amount'] = main_df['Amount'].fillna(median_value)\n",
    "\n",
    "# Print the unique values again after filling NaNs\n",
    "print(main_df['Amount'].unique())"
   ]
  },
  {
   "cell_type": "code",
   "execution_count": 35,
   "metadata": {},
   "outputs": [
    {
     "data": {
      "text/plain": [
       "array([2.0000000e+05, 1.0000000e+05, 3.0000000e+06, 4.0000000e+05,\n",
       "       3.4000000e+05, 6.0000000e+05, 4.5000000e+07, 1.0000000e+06,\n",
       "       2.0000000e+06, 1.2000000e+06, 6.6000000e+08, 1.2000000e+05,\n",
       "       7.5000000e+06, 5.0000000e+06, 5.0000000e+05, 1.0000000e+07,\n",
       "       1.4500000e+08, 1.0000000e+08, 2.1000000e+07, 4.0000000e+06,\n",
       "       2.0000000e+07, 5.6000000e+05, 2.7500000e+05, 4.5000000e+06,\n",
       "       1.5000000e+07, 3.9000000e+08, 7.0000000e+06, 5.1000000e+06,\n",
       "       7.0000000e+08, 2.3000000e+06, 7.0000000e+05, 1.9000000e+07,\n",
       "       9.0000000e+06, 4.0000000e+07, 7.5000000e+05, 1.5000000e+06,\n",
       "       7.8000000e+06, 5.0000000e+07, 8.0000000e+07, 3.0000000e+07,\n",
       "       1.7000000e+06, 2.5000000e+06, 4.0000000e+04, 3.3000000e+07,\n",
       "       3.5000000e+07, 3.0000000e+05, 2.5000000e+07, 3.5000000e+06,\n",
       "       2.0000000e+08, 6.0000000e+06, 1.3000000e+06, 4.1000000e+06,\n",
       "       5.7500000e+05, 8.0000000e+05, 2.8000000e+07, 1.8000000e+07,\n",
       "       3.2000000e+06, 9.0000000e+05, 2.5000000e+05, 4.7000000e+06,\n",
       "       7.5000000e+07, 8.0000000e+06, 1.2100000e+08, 5.5000000e+07,\n",
       "       3.3000000e+06, 1.1000000e+07, 1.6000000e+07, 5.4000000e+06,\n",
       "       1.5000000e+08, 4.2000000e+06, 2.2000000e+07, 5.2000000e+07,\n",
       "       1.1000000e+06, 1.1800000e+08, 1.6000000e+06, 1.8500000e+07,\n",
       "       7.0000000e+10, 8.0000000e+08, 4.0000000e+08, 1.5000000e+05,\n",
       "       1.7600000e+08, 6.0000000e+07, 4.7000000e+05, 2.4000000e+05,\n",
       "       3.0000000e+09, 7.4000000e+07, 6.2000000e+07, 2.1000000e+06,\n",
       "       5.0000000e+08, 1.2500000e+07, 2.2000000e+09, 5.0600000e+06,\n",
       "       2.2500000e+08, 2.4700000e+07, 7.7000000e+06, 1.9067328e+07,\n",
       "       5.1000000e+07, 1.1500000e+05, 5.4000000e+04, 2.0000000e+04,\n",
       "       8.0314600e+05, 2.3800000e+05, 1.0220000e+07, 1.0200000e+06,\n",
       "       1.2000000e+07, 1.3400000e+07, 1.7000000e+08, 2.9000000e+06,\n",
       "       5.4300000e+05, 9.0000000e+07, 3.4000000e+06, 2.3000000e+07,\n",
       "       8.0900000e+06, 1.0300000e+06, 5.0400000e+06, 3.6000000e+05,\n",
       "       1.4000000e+06, 6.5000000e+05, 5.4000000e+07, 4.2500000e+07,\n",
       "       1.1370000e+07, 3.2500000e+05, 4.1000000e+05, 4.5000000e+05,\n",
       "       6.8200000e+05, 4.0500000e+06, 1.0500000e+06, 1.0800000e+06,\n",
       "       4.3000000e+06, 6.8000000e+06, 2.1100000e+06, 7.6400000e+05,\n",
       "       6.0300000e+05, 4.0900000e+05, 2.9200000e+05, 2.8600000e+05,\n",
       "       1.3600000e+05, 5.4600000e+05, 8.8700000e+05, 4.3000000e+04,\n",
       "       4.0900000e+04, 2.2000000e+06, 5.6600000e+06, 3.5000000e+05,\n",
       "       1.1000000e+05, 1.2200000e+08, 1.1635000e+07, 2.8000000e+06,\n",
       "       1.0650000e+06, 6.6900000e+05, 1.6076000e+07, 6.4960000e+05,\n",
       "       6.7000000e+06, 2.2000000e+05, 2.6650000e+05, 2.8790000e+06,\n",
       "       2.6500000e+07, 3.5100000e+05, 4.6761000e+07, 1.7500000e+05,\n",
       "       1.1241000e+07, 8.0400000e+05, 1.3400000e+06, 4.6700000e+05,\n",
       "       1.3300000e+05, 3.8230000e+06, 9.3400000e+05, 2.9300000e+05,\n",
       "       1.9800000e+05, 9.2700000e+05, 9.7100000e+05, 3.0600000e+06,\n",
       "       1.8620000e+06, 2.3200000e+05, 2.8880000e+06, 1.3280000e+06,\n",
       "       1.5500000e+07, 5.6000000e+07, 2.2500000e+06, 1.6753000e+07,\n",
       "       3.7000000e+06, 1.4700000e+06, 5.3000000e+05, 2.6700000e+05,\n",
       "       3.3440000e+06, 7.2000000e+06, 2.7430000e+06, 6.0820000e+06,\n",
       "       6.6090000e+06, 2.7700000e+07, 5.9400000e+06, 3.9640000e+06,\n",
       "       5.5000000e+06, 1.9700000e+05, 4.3270000e+06, 4.5900000e+05,\n",
       "       3.9370000e+06, 1.3135000e+06, 2.2980000e+05, 5.3050000e+06,\n",
       "       2.6400000e+05, 1.7500000e+06, 5.9670000e+06, 2.9800000e+06,\n",
       "       3.2300000e+05, 1.3260000e+06, 2.7000000e+07, 5.2000000e+06,\n",
       "       2.5300000e+06, 7.9200000e+05, 1.1363000e+07, 1.7150000e+06,\n",
       "       3.2900000e+05, 5.2710000e+06, 8.7000000e+06, 3.2260000e+06,\n",
       "       5.9000000e+06, 4.4000000e+07, 3.8790000e+06, 1.3000000e+07,\n",
       "       8.8000000e+06, 9.5000000e+06, 9.2000000e+05, 3.5600000e+07,\n",
       "       9.4000000e+06, 7.9000000e+05, 4.8000000e+05, 1.6000000e+05,\n",
       "       8.2000000e+06, 4.2570000e+06, 1.4100000e+06, 3.4980000e+05,\n",
       "       7.8600000e+05, 2.0040000e+06, 1.2300000e+08, 2.4800000e+05,\n",
       "       2.4000000e+07, 1.4259000e+07, 2.4500000e+07, 3.8000000e+06,\n",
       "       1.8370000e+07, 6.8525000e+07, 4.8000000e+06, 1.8340000e+06,\n",
       "       2.3850000e+07, 4.3000000e+07, 2.1600000e+07, 4.5980000e+06,\n",
       "       1.3137000e+07, 1.1500000e+08, 3.9000000e+06, 6.7000000e+05,\n",
       "       8.5000000e+06, 3.1480000e+06, 2.6000000e+06, 4.0495000e+06,\n",
       "       1.0500000e+07, 6.5000000e+06, 4.3700000e+07, 1.3800000e+07,\n",
       "       3.0690000e+05, 4.2000000e+05, 6.2730000e+05, 1.1300000e+08,\n",
       "       3.2000000e+07, 1.1000000e+08, 1.3970000e+06, 4.4850000e+05,\n",
       "       7.9757000e+06, 3.3000000e+05, 5.6000000e+06, 1.4020000e+06,\n",
       "       2.1500000e+07, 2.9600000e+08, 4.9000000e+06, 1.4024000e+06,\n",
       "       1.2618300e+07, 9.9000000e+06, 9.8253000e+05, 7.0185200e+07,\n",
       "       2.1000000e+08, 8.4000000e+07, 3.9000000e+07, 2.7000000e+06,\n",
       "       1.4034000e+06, 1.0500000e+08, 1.0300000e+08, 2.8130000e+05,\n",
       "       1.2700000e+04, 2.5000000e+04, 9.7500000e+07, 5.0700000e+05,\n",
       "       8.4000000e+06, 1.8300000e+07, 1.2500000e+08, 1.8100000e+05,\n",
       "       2.8000000e+05, 1.4700000e+07, 1.3200000e+07, 8.0430000e+06,\n",
       "       1.2000000e+08, 1.8800000e+08, 4.9000000e+07, 1.6000000e+08,\n",
       "       1.8000000e+06, 8.5000000e+05, 5.3000000e+07, 2.6000000e+07,\n",
       "       7.4000000e+06, 1.7000000e+07, 2.1500000e+08, 3.5000000e+08,\n",
       "       8.3000000e+07, 6.5000000e+07, 1.5000000e+11, 3.0000000e+08,\n",
       "       1.4000000e+08, 1.7500000e+07, 4.2000000e+07, 4.5000000e+08,\n",
       "       3.7000000e+07, 3.7000000e+08, 7.7000000e+05, 7.0000000e+07,\n",
       "       6.6000000e+06, 7.2500000e+05, 4.6100000e+05, 9.6000000e+07,\n",
       "       2.6600000e+08, 3.2500000e+08, 2.2500000e+05, 8.5000000e+07,\n",
       "       2.3500000e+05, 2.6000000e+05, 8.6000000e+07, 1.3000000e+05,\n",
       "       1.1100000e+08, 2.6500000e+05, 7.6000000e+07, 1.0000000e+09,\n",
       "       9.5000000e+07, 2.8000000e+08, 1.4300000e+07, 8.1000000e+07,\n",
       "       7.2000000e+05, 3.6000000e+07, 6.7000000e+07, 1.0200000e+07,\n",
       "       2.2000000e+08, 1.0800000e+08, 3.7000000e+05, 4.8000000e+07,\n",
       "       3.6000000e+06, 1.9200000e+08, 1.9000000e+06, 4.1000000e+07,\n",
       "       1.4400000e+08, 2.7000000e+08, 1.4000000e+05, 2.5000000e+08,\n",
       "       3.2000000e+05, 3.8000000e+07, 1.2500000e+05, 6.4000000e+07,\n",
       "       6.2000000e+05, 1.2500000e+06, 2.3400000e+08, 4.6000000e+08,\n",
       "       1.3500000e+07, 1.9500000e+08, 7.3000000e+06, 6.3000000e+06,\n",
       "       1.6500000e+07, 9.2000000e+07, 1.3500000e+08, 8.4000000e+08,\n",
       "       2.4800000e+08, 5.7000000e+05, 2.6000000e+08, 1.7500000e+08,\n",
       "       8.1000000e+05, 6.0000000e+08, 5.7000000e+06, 6.7500000e+06,\n",
       "       7.8000000e+07, 2.5500000e+08, 5.7000000e+08, 5.5000000e+05,\n",
       "       3.1000000e+07, 5.4000000e+05, 1.4000000e+07, 6.2000000e+06,\n",
       "       2.7500000e+08, 1.4050000e+05, 5.4000000e+08, 1.8270000e+05,\n",
       "       2.3000000e+08, 4.9400000e+07, 3.1100000e+08, 6.9300000e+08,\n",
       "       5.8400000e+05, 9.4900000e+05, 2.3360000e+05, 7.3000000e+05,\n",
       "       1.4600000e+06, 7.3000000e+03, 5.1100000e+05, 9.3440000e+05,\n",
       "       4.3800000e+05, 7.3000000e+04, 1.8250000e+05, 2.1900000e+05,\n",
       "       1.5184000e+06, 6.5700000e+05, 3.6500000e+05, 3.8544000e+05,\n",
       "       1.1680000e+05, 8.7600000e+02, 4.9640000e+05, 4.9932000e+06,\n",
       "       1.4314500e+05, 8.7600000e+06, 7.4200000e+08, 1.4600000e+07,\n",
       "       2.9200000e+07, 3.9800000e+06, 1.0000000e+04, 1.4600000e+03,\n",
       "       3.6500000e+06, 8.0300000e+06, 2.8500000e+07, 3.5040000e+06,\n",
       "       1.7520000e+06, 2.4000000e+06, 3.6500000e+07, 6.4240000e+05,\n",
       "       3.2400000e+06, 8.7600000e+05, 9.4900000e+06, 2.3360000e+07,\n",
       "       1.0220000e+06, 1.4965000e+06, 1.7520000e+04, 7.5920000e+07,\n",
       "       1.0410000e+06, 1.5000000e+04, 1.3870000e+05, 6.8300000e+06,\n",
       "       2.1900000e+06, 3.6484600e+05, 1.0220000e+05, 2.0440000e+04,\n",
       "       1.4600000e+05, 3.2850000e+05, 5.0000000e+04, 2.0469200e+06,\n",
       "       1.8000000e+05, 2.8032000e+05, 1.5038000e+06, 1.4500000e+06,\n",
       "       2.9200000e+03, 2.4236000e+05, 1.7520000e+05, 4.8180000e+05,\n",
       "       5.0954000e+05, 1.0512000e+06, 1.7200000e+07, 4.6720000e+05,\n",
       "       1.9710000e+06, 2.2484000e+07, 2.0440000e+06, 4.1900000e+07,\n",
       "       2.0586000e+07, 3.5300000e+06, 8.4680000e+06, 5.2560000e+05,\n",
       "       4.9640000e+06, 3.7680000e+07, 7.4460000e+06, 3.2120000e+07,\n",
       "       7.0000000e+04, 2.2472320e+08, 2.9200000e+08, 5.8400000e+07,\n",
       "       1.8500000e+08, 2.4090000e+06, 3.0660000e+06, 2.9632160e+07,\n",
       "       1.1680000e+06, 1.7600000e+06, 4.0880000e+06, 1.1680000e+07,\n",
       "       1.0658000e+07, 5.8400000e+06, 3.7960000e+06, 9.9230000e+07,\n",
       "       3.6500000e+08, 1.2775000e+05, 1.1388000e+06, 3.8544000e+06,\n",
       "       1.6498000e+07, 1.1826000e+07, 2.0440000e+07, 1.4900000e+07,\n",
       "       7.5000000e+03])"
      ]
     },
     "execution_count": 35,
     "metadata": {},
     "output_type": "execute_result"
    }
   ],
   "source": [
    "main_df['Amount'].unique()"
   ]
  },
  {
   "cell_type": "code",
   "execution_count": 36,
   "metadata": {},
   "outputs": [
    {
     "data": {
      "text/plain": [
       "Index(['Company/Brand', 'Founded', 'HeadQuarter', 'Sector', 'What it does',\n",
       "       'Founders', 'Investor', 'Amount', 'Stage'],\n",
       "      dtype='object')"
      ]
     },
     "execution_count": 36,
     "metadata": {},
     "output_type": "execute_result"
    }
   ],
   "source": [
    "main_df.columns"
   ]
  },
  {
   "cell_type": "code",
   "execution_count": 37,
   "metadata": {},
   "outputs": [
    {
     "name": "stdout",
     "output_type": "stream",
     "text": [
      "float64\n",
      "\n",
      "\n"
     ]
    },
    {
     "data": {
      "text/plain": [
       "array([2.0000000e+05, 1.0000000e+05, 3.0000000e+06, 4.0000000e+05,\n",
       "       3.4000000e+05, 6.0000000e+05, 4.5000000e+07, 1.0000000e+06,\n",
       "       2.0000000e+06, 1.2000000e+06, 6.6000000e+08, 1.2000000e+05,\n",
       "       7.5000000e+06, 5.0000000e+06, 5.0000000e+05, 1.0000000e+07,\n",
       "       1.4500000e+08, 1.0000000e+08, 2.1000000e+07, 4.0000000e+06,\n",
       "       2.0000000e+07, 5.6000000e+05, 2.7500000e+05, 4.5000000e+06,\n",
       "       1.5000000e+07, 3.9000000e+08, 7.0000000e+06, 5.1000000e+06,\n",
       "       7.0000000e+08, 2.3000000e+06, 7.0000000e+05, 1.9000000e+07,\n",
       "       9.0000000e+06, 4.0000000e+07, 7.5000000e+05, 1.5000000e+06,\n",
       "       7.8000000e+06, 5.0000000e+07, 8.0000000e+07, 3.0000000e+07,\n",
       "       1.7000000e+06, 2.5000000e+06, 4.0000000e+04, 3.3000000e+07,\n",
       "       3.5000000e+07, 3.0000000e+05, 2.5000000e+07, 3.5000000e+06,\n",
       "       2.0000000e+08, 6.0000000e+06, 1.3000000e+06, 4.1000000e+06,\n",
       "       5.7500000e+05, 8.0000000e+05, 2.8000000e+07, 1.8000000e+07,\n",
       "       3.2000000e+06, 9.0000000e+05, 2.5000000e+05, 4.7000000e+06,\n",
       "       7.5000000e+07, 8.0000000e+06, 1.2100000e+08, 5.5000000e+07,\n",
       "       3.3000000e+06, 1.1000000e+07, 1.6000000e+07, 5.4000000e+06,\n",
       "       1.5000000e+08, 4.2000000e+06, 2.2000000e+07, 5.2000000e+07,\n",
       "       1.1000000e+06, 1.1800000e+08, 1.6000000e+06, 1.8500000e+07,\n",
       "       7.0000000e+10, 8.0000000e+08, 4.0000000e+08, 1.5000000e+05,\n",
       "       1.7600000e+08, 6.0000000e+07, 4.7000000e+05, 2.4000000e+05,\n",
       "       3.0000000e+09, 7.4000000e+07, 6.2000000e+07, 2.1000000e+06,\n",
       "       5.0000000e+08, 1.2500000e+07, 2.2000000e+09, 5.0600000e+06,\n",
       "       2.2500000e+08, 2.4700000e+07, 7.7000000e+06, 1.9067328e+07,\n",
       "       5.1000000e+07, 1.1500000e+05, 5.4000000e+04, 2.0000000e+04,\n",
       "       8.0314600e+05, 2.3800000e+05, 1.0220000e+07, 1.0200000e+06,\n",
       "       1.2000000e+07, 1.3400000e+07, 1.7000000e+08, 2.9000000e+06,\n",
       "       5.4300000e+05, 9.0000000e+07, 3.4000000e+06, 2.3000000e+07,\n",
       "       8.0900000e+06, 1.0300000e+06, 5.0400000e+06, 3.6000000e+05,\n",
       "       1.4000000e+06, 6.5000000e+05, 5.4000000e+07, 4.2500000e+07,\n",
       "       1.1370000e+07, 3.2500000e+05, 4.1000000e+05, 4.5000000e+05,\n",
       "       6.8200000e+05, 4.0500000e+06, 1.0500000e+06, 1.0800000e+06,\n",
       "       4.3000000e+06, 6.8000000e+06, 2.1100000e+06, 7.6400000e+05,\n",
       "       6.0300000e+05, 4.0900000e+05, 2.9200000e+05, 2.8600000e+05,\n",
       "       1.3600000e+05, 5.4600000e+05, 8.8700000e+05, 4.3000000e+04,\n",
       "       4.0900000e+04, 2.2000000e+06, 5.6600000e+06, 3.5000000e+05,\n",
       "       1.1000000e+05, 1.2200000e+08, 1.1635000e+07, 2.8000000e+06,\n",
       "       1.0650000e+06, 6.6900000e+05, 1.6076000e+07, 6.4960000e+05,\n",
       "       6.7000000e+06, 2.2000000e+05, 2.6650000e+05, 2.8790000e+06,\n",
       "       2.6500000e+07, 3.5100000e+05, 4.6761000e+07, 1.7500000e+05,\n",
       "       1.1241000e+07, 8.0400000e+05, 1.3400000e+06, 4.6700000e+05,\n",
       "       1.3300000e+05, 3.8230000e+06, 9.3400000e+05, 2.9300000e+05,\n",
       "       1.9800000e+05, 9.2700000e+05, 9.7100000e+05, 3.0600000e+06,\n",
       "       1.8620000e+06, 2.3200000e+05, 2.8880000e+06, 1.3280000e+06,\n",
       "       1.5500000e+07, 5.6000000e+07, 2.2500000e+06, 1.6753000e+07,\n",
       "       3.7000000e+06, 1.4700000e+06, 5.3000000e+05, 2.6700000e+05,\n",
       "       3.3440000e+06, 7.2000000e+06, 2.7430000e+06, 6.0820000e+06,\n",
       "       6.6090000e+06, 2.7700000e+07, 5.9400000e+06, 3.9640000e+06,\n",
       "       5.5000000e+06, 1.9700000e+05, 4.3270000e+06, 4.5900000e+05,\n",
       "       3.9370000e+06, 1.3135000e+06, 2.2980000e+05, 5.3050000e+06,\n",
       "       2.6400000e+05, 1.7500000e+06, 5.9670000e+06, 2.9800000e+06,\n",
       "       3.2300000e+05, 1.3260000e+06, 2.7000000e+07, 5.2000000e+06,\n",
       "       2.5300000e+06, 7.9200000e+05, 1.1363000e+07, 1.7150000e+06,\n",
       "       3.2900000e+05, 5.2710000e+06, 8.7000000e+06, 3.2260000e+06,\n",
       "       5.9000000e+06, 4.4000000e+07, 3.8790000e+06, 1.3000000e+07,\n",
       "       8.8000000e+06, 9.5000000e+06, 9.2000000e+05, 3.5600000e+07,\n",
       "       9.4000000e+06, 7.9000000e+05, 4.8000000e+05, 1.6000000e+05,\n",
       "       8.2000000e+06, 4.2570000e+06, 1.4100000e+06, 3.4980000e+05,\n",
       "       7.8600000e+05, 2.0040000e+06, 1.2300000e+08, 2.4800000e+05,\n",
       "       2.4000000e+07, 1.4259000e+07, 2.4500000e+07, 3.8000000e+06,\n",
       "       1.8370000e+07, 6.8525000e+07, 4.8000000e+06, 1.8340000e+06,\n",
       "       2.3850000e+07, 4.3000000e+07, 2.1600000e+07, 4.5980000e+06,\n",
       "       1.3137000e+07, 1.1500000e+08, 3.9000000e+06, 6.7000000e+05,\n",
       "       8.5000000e+06, 3.1480000e+06, 2.6000000e+06, 4.0495000e+06,\n",
       "       1.0500000e+07, 6.5000000e+06, 4.3700000e+07, 1.3800000e+07,\n",
       "       3.0690000e+05, 4.2000000e+05, 6.2730000e+05, 1.1300000e+08,\n",
       "       3.2000000e+07, 1.1000000e+08, 1.3970000e+06, 4.4850000e+05,\n",
       "       7.9757000e+06, 3.3000000e+05, 5.6000000e+06, 1.4020000e+06,\n",
       "       2.1500000e+07, 2.9600000e+08, 4.9000000e+06, 1.4024000e+06,\n",
       "       1.2618300e+07, 9.9000000e+06, 9.8253000e+05, 7.0185200e+07,\n",
       "       2.1000000e+08, 8.4000000e+07, 3.9000000e+07, 2.7000000e+06,\n",
       "       1.4034000e+06, 1.0500000e+08, 1.0300000e+08, 2.8130000e+05,\n",
       "       1.2700000e+04, 2.5000000e+04, 9.7500000e+07, 5.0700000e+05,\n",
       "       8.4000000e+06, 1.8300000e+07, 1.2500000e+08, 1.8100000e+05,\n",
       "       2.8000000e+05, 1.4700000e+07, 1.3200000e+07, 8.0430000e+06,\n",
       "       1.2000000e+08, 1.8800000e+08, 4.9000000e+07, 1.6000000e+08,\n",
       "       1.8000000e+06, 8.5000000e+05, 5.3000000e+07, 2.6000000e+07,\n",
       "       7.4000000e+06, 1.7000000e+07, 2.1500000e+08, 3.5000000e+08,\n",
       "       8.3000000e+07, 6.5000000e+07, 1.5000000e+11, 3.0000000e+08,\n",
       "       1.4000000e+08, 1.7500000e+07, 4.2000000e+07, 4.5000000e+08,\n",
       "       3.7000000e+07, 3.7000000e+08, 7.7000000e+05, 7.0000000e+07,\n",
       "       6.6000000e+06, 7.2500000e+05, 4.6100000e+05, 9.6000000e+07,\n",
       "       2.6600000e+08, 3.2500000e+08, 2.2500000e+05, 8.5000000e+07,\n",
       "       2.3500000e+05, 2.6000000e+05, 8.6000000e+07, 1.3000000e+05,\n",
       "       1.1100000e+08, 2.6500000e+05, 7.6000000e+07, 1.0000000e+09,\n",
       "       9.5000000e+07, 2.8000000e+08, 1.4300000e+07, 8.1000000e+07,\n",
       "       7.2000000e+05, 3.6000000e+07, 6.7000000e+07, 1.0200000e+07,\n",
       "       2.2000000e+08, 1.0800000e+08, 3.7000000e+05, 4.8000000e+07,\n",
       "       3.6000000e+06, 1.9200000e+08, 1.9000000e+06, 4.1000000e+07,\n",
       "       1.4400000e+08, 2.7000000e+08, 1.4000000e+05, 2.5000000e+08,\n",
       "       3.2000000e+05, 3.8000000e+07, 1.2500000e+05, 6.4000000e+07,\n",
       "       6.2000000e+05, 1.2500000e+06, 2.3400000e+08, 4.6000000e+08,\n",
       "       1.3500000e+07, 1.9500000e+08, 7.3000000e+06, 6.3000000e+06,\n",
       "       1.6500000e+07, 9.2000000e+07, 1.3500000e+08, 8.4000000e+08,\n",
       "       2.4800000e+08, 5.7000000e+05, 2.6000000e+08, 1.7500000e+08,\n",
       "       8.1000000e+05, 6.0000000e+08, 5.7000000e+06, 6.7500000e+06,\n",
       "       7.8000000e+07, 2.5500000e+08, 5.7000000e+08, 5.5000000e+05,\n",
       "       3.1000000e+07, 5.4000000e+05, 1.4000000e+07, 6.2000000e+06,\n",
       "       2.7500000e+08, 1.4050000e+05, 5.4000000e+08, 1.8270000e+05,\n",
       "       2.3000000e+08, 4.9400000e+07, 3.1100000e+08, 6.9300000e+08,\n",
       "       5.8400000e+05, 9.4900000e+05, 2.3360000e+05, 7.3000000e+05,\n",
       "       1.4600000e+06, 7.3000000e+03, 5.1100000e+05, 9.3440000e+05,\n",
       "       4.3800000e+05, 7.3000000e+04, 1.8250000e+05, 2.1900000e+05,\n",
       "       1.5184000e+06, 6.5700000e+05, 3.6500000e+05, 3.8544000e+05,\n",
       "       1.1680000e+05, 8.7600000e+02, 4.9640000e+05, 4.9932000e+06,\n",
       "       1.4314500e+05, 8.7600000e+06, 7.4200000e+08, 1.4600000e+07,\n",
       "       2.9200000e+07, 3.9800000e+06, 1.0000000e+04, 1.4600000e+03,\n",
       "       3.6500000e+06, 8.0300000e+06, 2.8500000e+07, 3.5040000e+06,\n",
       "       1.7520000e+06, 2.4000000e+06, 3.6500000e+07, 6.4240000e+05,\n",
       "       3.2400000e+06, 8.7600000e+05, 9.4900000e+06, 2.3360000e+07,\n",
       "       1.0220000e+06, 1.4965000e+06, 1.7520000e+04, 7.5920000e+07,\n",
       "       1.0410000e+06, 1.5000000e+04, 1.3870000e+05, 6.8300000e+06,\n",
       "       2.1900000e+06, 3.6484600e+05, 1.0220000e+05, 2.0440000e+04,\n",
       "       1.4600000e+05, 3.2850000e+05, 5.0000000e+04, 2.0469200e+06,\n",
       "       1.8000000e+05, 2.8032000e+05, 1.5038000e+06, 1.4500000e+06,\n",
       "       2.9200000e+03, 2.4236000e+05, 1.7520000e+05, 4.8180000e+05,\n",
       "       5.0954000e+05, 1.0512000e+06, 1.7200000e+07, 4.6720000e+05,\n",
       "       1.9710000e+06, 2.2484000e+07, 2.0440000e+06, 4.1900000e+07,\n",
       "       2.0586000e+07, 3.5300000e+06, 8.4680000e+06, 5.2560000e+05,\n",
       "       4.9640000e+06, 3.7680000e+07, 7.4460000e+06, 3.2120000e+07,\n",
       "       7.0000000e+04, 2.2472320e+08, 2.9200000e+08, 5.8400000e+07,\n",
       "       1.8500000e+08, 2.4090000e+06, 3.0660000e+06, 2.9632160e+07,\n",
       "       1.1680000e+06, 1.7600000e+06, 4.0880000e+06, 1.1680000e+07,\n",
       "       1.0658000e+07, 5.8400000e+06, 3.7960000e+06, 9.9230000e+07,\n",
       "       3.6500000e+08, 1.2775000e+05, 1.1388000e+06, 3.8544000e+06,\n",
       "       1.6498000e+07, 1.1826000e+07, 2.0440000e+07, 1.4900000e+07,\n",
       "       7.5000000e+03])"
      ]
     },
     "execution_count": 37,
     "metadata": {},
     "output_type": "execute_result"
    }
   ],
   "source": [
    "# Convert the Amount column to float data type\n",
    "main_df['Amount'] = main_df['Amount'].astype(float)\n",
    "print(main_df['Amount'].dtype)\n",
    "\n",
    "print('\\n')\n",
    "\n",
    "main_df['Amount'].unique()"
   ]
  },
  {
   "cell_type": "markdown",
   "metadata": {},
   "source": [
    "## SECTOR CLEANING"
   ]
  },
  {
   "cell_type": "code",
   "execution_count": 38,
   "metadata": {},
   "outputs": [
    {
     "data": {
      "text/plain": [
       "array(['3D Printing, Manufacturing, Product Design', 'AI',\n",
       "       'AI & Data science', 'AI & Debt', 'AI & Deep learning',\n",
       "       'AI & Media', 'AI & Tech', 'AI Chatbot', 'AI Company',\n",
       "       'AI Platform', 'AI Robotics', 'AI Startup', 'AI company',\n",
       "       'AI health', 'AI platform', 'AI startup', 'API platform',\n",
       "       'AR platform', 'AR startup', 'AR/VR', 'AR/VR startup',\n",
       "       'Accomodation', 'Accounting, Apps, FinTech',\n",
       "       'Accounting, Banking, Finance',\n",
       "       'Accounting, Business Information Systems, Business Travel, Finance, SaaS',\n",
       "       'Ad-tech', 'Advertisement',\n",
       "       'Advertising, Artificial Intelligence, Digital Media, iOS, Location Based Services, News, Video, Video on Demand, Video Streaming',\n",
       "       'Advertising, Consulting, Digital Marketing',\n",
       "       'Advertising, Human Resources, Marketing',\n",
       "       'Advertising, Internet, Marketing', 'Advisory firm', 'Aeorspace',\n",
       "       'Aero company', 'Aerospace',\n",
       "       'AgTech, B2B, Supply Chain Management', 'Agri tech', 'AgriTech',\n",
       "       'Agriculture',\n",
       "       'Agriculture, AgTech, Artificial Intelligence, Internet of Things, Machine Learning',\n",
       "       'Agriculture, AgTech, Manufacturing',\n",
       "       'Agriculture, Analytics, Big Data, Farming',\n",
       "       'Agriculture, Farmers Market, Farming', 'Agriculture, Farming',\n",
       "       'Agriculture, Mobile', 'Agritech', 'Agritech startup',\n",
       "       'Agritech/Commerce',\n",
       "       'Air Transportation, Freight Service, Logistics, Marine Transportation',\n",
       "       'Alternative Medicine, Health Care', 'Analytics',\n",
       "       'Analytics, Apps, Market Research',\n",
       "       'Analytics, Audio, Digital Media, Innovation Management, Internet Radio, Media and Entertainment',\n",
       "       'Analytics, CRM, Loyalty Programs, Machine Learning, Marketing Automation, Retail Technology, SaaS, Small and Medium Businesses',\n",
       "       'Analytics, Computer Vision, Enterprise Software, Machine Learning, Natural Language Processing, Speech Recognition',\n",
       "       'Android, Big Data, Blockchain, Cloud Computing, EdTech, Education, Information Technology, iOS, Training, Web Development',\n",
       "       'Apparel & Fashion', 'Appliance', 'Apps', 'Apps, Audio',\n",
       "       'Apps, B2B, Freight Service, Logistics, SaaS, Shipping, Supply Chain Management, Transportation',\n",
       "       'Apps, Beauty, Consumer, Retail',\n",
       "       'Apps, Collaboration, Developer Platform, Enterprise Software, Messaging, Productivity Tools, Video Chat',\n",
       "       'Apps, E-Commerce, Internet',\n",
       "       'Apps, E-Commerce, Internet, Mobile, Ride Sharing, Transportation',\n",
       "       'Apps, Education, Retail', 'Apps, Events, News',\n",
       "       'Apps, Financial Services, FinTech',\n",
       "       'Apps, Fitness, Health Care, mHealth',\n",
       "       'Apps, Health Care, Hospital, Mobile Apps',\n",
       "       'Apps, Health Care, Internet, Mobile Apps, Personal Health',\n",
       "       'Apps, Health Care, Pharmaceutical',\n",
       "       'Apps, Home Services, Information Services, Information Technology',\n",
       "       'Apps, Information Services, Information Technology',\n",
       "       'Apps, Messaging, Navigation, Public Safety',\n",
       "       'Apps, Mobile, Mobile Apps, Software',\n",
       "       'Apps, Mobile, Transportation', 'Apps, Payments, Retail',\n",
       "       'Artificial Intelligence',\n",
       "       'Artificial Intelligence, Business Intelligence, Industrial Automation, Machine Learning',\n",
       "       'Artificial Intelligence, Cloud Computing, Video',\n",
       "       'Artificial Intelligence, Computer, Machine Learning',\n",
       "       'Artificial Intelligence, Drones, Navigation, Packaging Services, Robotics',\n",
       "       'Artificial Intelligence, Energy, Oil and Gas',\n",
       "       'Artificial Intelligence, Human Resources, Information Services, Information Technology',\n",
       "       'Artificial Intelligence, Information Technology',\n",
       "       'Artificial Intelligence, Machine Learning, PaaS',\n",
       "       'Artificial Intelligence, Machine Learning, SaaS, Virtual Assistant',\n",
       "       'Artificial Intelligence, Product Search, SaaS, Service Industry, Software',\n",
       "       'Artificial Intelligence, Social', 'Arts & Crafts',\n",
       "       'Audio, Mobile, Tourism, Travel', 'Augmented reality', 'Auto-tech',\n",
       "       'Automation', 'Automation tech', 'Automobile',\n",
       "       'Automobile & Technology', 'Automobile Technology', 'Automobiles',\n",
       "       'Automotive', 'Automotive Startup', 'Automotive and Rentals',\n",
       "       'Automotive company', 'Automotive tech',\n",
       "       'Automotive, Battery, Electric Vehicle, Manufacturing, Mechanical Design',\n",
       "       'Automotive, Battery, Energy, Energy Storage',\n",
       "       'Automotive, E-Commerce',\n",
       "       'Automotive, E-Commerce Platforms, Marketplace',\n",
       "       'Automotive, E-Commerce, Information Services',\n",
       "       'Automotive, E-Commerce, Marketplace',\n",
       "       'Automotive, E-Commerce, Mobile',\n",
       "       'Automotive, Electric Vehicle, Energy',\n",
       "       'Automotive, Electric Vehicle, Energy Storage',\n",
       "       'Automotive, Electric Vehicle, Renewable Energy',\n",
       "       'Automotive, Last Mile Transportation, Peer to Peer, Ride Sharing',\n",
       "       'Automotive, Marketplace, Online Portals',\n",
       "       'Automotive, Rental, Sharing Economy', 'Automotive, Retail',\n",
       "       'Automotive, Search Engine, Service Industry',\n",
       "       'Autonomous Vehicles',\n",
       "       'Autonomous Vehicles, Last Mile Transportation, Recreational Vehicles, Rental',\n",
       "       'Aviation', 'Aviation & Aerospace', 'Ayurveda tech', 'B2B',\n",
       "       'B2B Agritech', 'B2B E-commerce', 'B2B Ecommerce',\n",
       "       'B2B Manufacturing', 'B2B Marketplace', 'B2B Supply Chain',\n",
       "       'B2B Travel', 'B2B marketplace', 'B2B service', 'B2B startup',\n",
       "       'B2B, Biometrics, Cyber Security, Fraud Detection, SaaS, Security',\n",
       "       'B2B, Business Development, Internet, Marketplace',\n",
       "       'B2B, E-Commerce, Enterprise', 'B2B, E-Commerce, Mobile',\n",
       "       'B2B, Farming, Marketplace',\n",
       "       'B2B, Food and Beverage, Food Delivery',\n",
       "       'B2B, Information Services, Information Technology',\n",
       "       'B2B, Marketplace', 'B2B, Medical Device', 'B2B, Shoes', 'Banking',\n",
       "       'Banking, E-Learning, Trading Platform',\n",
       "       'Banking, Finance, Financial Services',\n",
       "       'Banking, Finance, Financial Services, Non Profit',\n",
       "       'Banking, Financial Services, FinTech',\n",
       "       'Banking, Financial Services, Internet',\n",
       "       'Basketball, Cricket, Cycling, eSports, Fitness, Golf, Health Care, Hockey, Sports, Swimming, Table Tennis, Volley Ball',\n",
       "       'Battery', 'Battery design', 'Battery manufacturer',\n",
       "       'Battery, Electric Vehicle, Energy, Renewable Energy, Transportation',\n",
       "       'Beauty', 'Beauty & wellness', 'Beauty products',\n",
       "       'Beauty, Cosmetics, Health Care, Service Industry',\n",
       "       'Beauty, Fashion, Wellness',\n",
       "       'Beauty, Fitness, Home Services, Internet', 'Beauty, Health Care',\n",
       "       'Beverage', 'Beverages',\n",
       "       'Big Data, Business Intelligence, Financial Services, FinTech, Personal Finance',\n",
       "       'Big Data, Consumer Lending, FinTech',\n",
       "       'Big Data, Data Visualization, Logistics, Software',\n",
       "       'Big Data, EdTech, Machine Learning',\n",
       "       'Big Data, Financial Services, Machine Learning, Predictive Analytics',\n",
       "       'Bike Rental', 'Bike marketplace', 'BioTechnology',\n",
       "       'Biomaterial startup', 'Biopharma', 'Biotech', 'Biotechnology',\n",
       "       'Biotechnology company', 'Biotechnology, Diabetes, Health Care',\n",
       "       'Biotechnology, Health Care, Life Science, Medical Device',\n",
       "       'Biotechnology, Health Care, Pharmaceutical',\n",
       "       'Biotechnology, Health Care, Wellness',\n",
       "       'Biotechnology, Life Science, Pharmaceutical, Product Research',\n",
       "       'Blockchain', 'Blockchain startup',\n",
       "       'Blockchain, Developer Tools, Enterprise Software', 'Blogging',\n",
       "       'Brand Marketing, Event Promotion, Marketing, Sponsorship, Ticketing',\n",
       "       'Broadcasting, Media and Entertainment, Music, Music Streaming, Video, Video Streaming',\n",
       "       'Business Development, Market Research, Outsourcing',\n",
       "       'Business Intelligence, Customer Service, Market Research, SaaS',\n",
       "       'Business Supplies & Equipment',\n",
       "       'Business Travel, Hospitality, Hotel, Marketplace, Tourism, Travel Accommodations',\n",
       "       'CRM', 'Cannabis startup', 'Capital Markets', 'Car Service',\n",
       "       'Car Trade',\n",
       "       'Career Planning, Education, Higher Education, Service Industry',\n",
       "       'Career Planning, Education, Internet',\n",
       "       'Catering, Food and Beverage, Food Delivery, Food Processing',\n",
       "       'Celebrity Engagement',\n",
       "       \"Child Care, Health Care, Hospital, Medical, Women's\",\n",
       "       'Child Care, Information Technology',\n",
       "       'Children, Education, Online Portals',\n",
       "       'Children, Education, Parenting',\n",
       "       'Classifieds, Internet, Marketplace, Rental Property',\n",
       "       'Clean Energy, CleanTech, Laundry and Dry-cleaning', 'CleanTech',\n",
       "       'Cleantech', 'Clothing',\n",
       "       'Cloud Computing, Computer, SaaS, Software',\n",
       "       'Cloud Computing, Computer, Semiconductor',\n",
       "       'Cloud Computing, Computer, Software',\n",
       "       'Cloud Computing, Enterprise Software, Network Hardware, Network Security, SaaS',\n",
       "       'Cloud Infrastructure, PaaS, SaaS', 'Cloud Kitchen',\n",
       "       'Cloud company', 'Cloud kitchen', 'Co-living', 'Co-working',\n",
       "       'Co-working Startup',\n",
       "       'Collaboration, Communities, Coworking, Real Estate',\n",
       "       'Collaboration, Communities, Coworking, Sharing Economy',\n",
       "       'Commerce', 'Commercial Real Estate',\n",
       "       'Commercial Real Estate, Coworking, Office Administration, Real Estate',\n",
       "       'Commercial, E-Learning, Education',\n",
       "       'Communities, Coworking, Incubators',\n",
       "       'Communities, Leisure, Mobile Apps, Software', 'Community',\n",
       "       'Community platform', 'Company-as-a-Service',\n",
       "       'Computer & Network Security', 'Computer Games',\n",
       "       'Computer Software', 'Computer software',\n",
       "       'Computer, Digital Marketing, Facilities Support Services, Graphic Design, Internet, Mobile Apps, Social Media Marketing, Web Development',\n",
       "       'Computer, FinTech, Risk Management, Software',\n",
       "       'Computer, Furniture, Software', 'Construction',\n",
       "       'Construction tech', 'Consultancy', 'Consulting',\n",
       "       'Consulting, Cyber Security, Network Security',\n",
       "       'Consulting, Retail, Social', 'Consumer',\n",
       "       'Consumer Applications, Information Services, Location Based Services, Virtual Assistant',\n",
       "       'Consumer Electronics',\n",
       "       'Consumer Electronics, E-Commerce, E-Commerce Platforms, Electronics, Shipping, Shopping',\n",
       "       'Consumer Electronics, Embedded Systems, Hardware, Smart Building, Software',\n",
       "       'Consumer Goods', \"Consumer Goods, Lifestyle, Men's\",\n",
       "       'Consumer Goods, Manufacturing', 'Consumer Lending, FinTech',\n",
       "       'Consumer Lending, Finance, FinTech',\n",
       "       'Consumer Lending, Financial Services, FinTech, Insurance, Lending, Mobile Payments, Payments, Wealth Management',\n",
       "       'Consumer Lending, Financial Services, Lending, Personal Finance',\n",
       "       'Consumer Services', 'Consumer appliances', 'Consumer goods',\n",
       "       'Consumer service', 'Consumer software',\n",
       "       'Consumer, Financial Services, FinTech',\n",
       "       'Consumer, Furniture, Home Decor, Home Improvement',\n",
       "       'Content Marktplace', 'Content commerce', 'Content creation',\n",
       "       'Content management', 'Content marketplace', 'Content publishing',\n",
       "       'Continuing Education, EdTech, Education, Skill Assessment',\n",
       "       'Conversational AI platform',\n",
       "       'Cooking, E-Commerce, Food and Beverage, Food Delivery, Online Portals',\n",
       "       'Cosmetics', 'Coworking', 'Craft Beer',\n",
       "       'Creative Agency, Crowdfunding, EdTech, Health Care, Internet, Medical, Non Profit, Personal Health',\n",
       "       'Credit Cards, Finance, Mobile Apps, Mobile Payments, Payments',\n",
       "       'Credit Cards, Payments, Property Insurance, Property Management, Rental Property',\n",
       "       'Credit, Finance, FinTech, Lending, Sales Automation',\n",
       "       'Credit, Financial Services, FinTech, Lending',\n",
       "       'Credit, Financial Services, FinTech, Personal Finance',\n",
       "       'Credit, Financial Services, Lending, Marketplace',\n",
       "       'Crowdfunding, Finance, Financial Services',\n",
       "       'Crowdfunding, Financial Services, Internet', 'Crowdsourcing',\n",
       "       'Crowdsourcing, Financial Services, Funding Platform, Venture Capital',\n",
       "       'Crypto', 'Cryptocurrency', 'Cryptocurrency, Trading Platform',\n",
       "       'Cultural',\n",
       "       'Customer Service, Information Technology, Internet, Sales Automation',\n",
       "       'Customer Service, Messaging, Mobile Apps, Personalization',\n",
       "       'Customer Service, Software, Video, Video Streaming',\n",
       "       'Customer service company', 'Cybersecurity', 'D2C', 'D2C Business',\n",
       "       'D2C Fashion', 'D2C jewellery', 'D2C startup', 'Dairy',\n",
       "       'Dairy startup', 'Data Analytics', 'Data Intelligence',\n",
       "       'Data Science', 'Dating', 'Dating app',\n",
       "       'Dating, Private Social Networking', 'Deep Tech', 'Deep Tech AI',\n",
       "       'Deeptech', 'Deeptech startup', 'Defense & Space', 'Defense tech',\n",
       "       'Deisgning', 'Delivery Service, E-Commerce, Logistics',\n",
       "       'Delivery Service, Food and Beverage, Food Delivery',\n",
       "       'Delivery Service, Logistics, Service Industry',\n",
       "       'Delivery service', 'Delivery, Drones, Geospatial, Robotics',\n",
       "       'Delivery, Information Technology, Mobile Apps',\n",
       "       'Delivery, Logistics, Transportation',\n",
       "       'Dental, Elder Care, Health Care, Home Health Care, Personal Health',\n",
       "       'Design',\n",
       "       'Dietary Supplements, Food and Beverage, Health Care, Organic Food, Snack Food',\n",
       "       'Digital Entertainment',\n",
       "       'Digital Entertainment, Fantasy Sports, Gaming, Sports',\n",
       "       'Digital Entertainment, Fantasy Sports, Sports',\n",
       "       'Digital Entertainment, Mobile, PC Games',\n",
       "       'Digital Marketing, SEM, SEO, Web Development', 'Digital Media',\n",
       "       'Digital Media, EBooks, Publishing, Reading Apps',\n",
       "       'Digital Media, Incubators, Social Entrepreneurship',\n",
       "       'Digital Media, Internet, Media and Entertainment, Online Portals, Social Media',\n",
       "       'Digital Media, News, Publishing', 'Digital mortgage',\n",
       "       'Digital platform', 'Digital tech', 'Drone', 'E store', 'E tailor',\n",
       "       'E-Commerce', 'E-Commerce Platforms, Retail, SaaS',\n",
       "       'E-Commerce, E-Commerce Platforms, Furniture, Home Decor, Internet',\n",
       "       'E-Commerce, E-Commerce Platforms, Internet, Mobile Apps, Social Media',\n",
       "       'E-Commerce, E-Commerce Platforms, Internet, Retail',\n",
       "       'E-Commerce, E-Commerce Platforms, Retail',\n",
       "       'E-Commerce, Education, Health Care',\n",
       "       'E-Commerce, Facilities Support Services, Procurement, Supply Chain Management',\n",
       "       'E-Commerce, Fashion, Jewelry, Retail',\n",
       "       'E-Commerce, Fashion, Lifestyle', 'E-Commerce, Fashion, Mobile',\n",
       "       'E-Commerce, Fashion, Shopping',\n",
       "       'E-Commerce, Fitness, Health Care', 'E-Commerce, Food Processing',\n",
       "       'E-Commerce, Food and Beverage, Internet',\n",
       "       'E-Commerce, Food and Beverage, Tea',\n",
       "       'E-Commerce, Furniture, Home Decor, Interior Design, Internet',\n",
       "       'E-Commerce, Furniture, Interior Design',\n",
       "       'E-Commerce, Health Care, Retail', 'E-Commerce, Mobile, Retail',\n",
       "       'E-Commerce, Mobile, Sharing Economy',\n",
       "       'E-Commerce, Retail, Shopping', 'E-Learning',\n",
       "       'E-Learning, EdTech, Education',\n",
       "       'E-Learning, EdTech, Education, Image Recognition, Machine Learning, STEM Education',\n",
       "       'E-Learning, Education', 'E-Learning, Education, Higher Education',\n",
       "       'E-Learning, Internet', 'E-Learning, Internet, Video Games',\n",
       "       'E-Sports', 'E-commerce', 'E-commerce & AR', 'E-connect',\n",
       "       'E-learning', 'E-market', 'E-marketplace', 'E-mobility', 'E-tail',\n",
       "       'EV', 'EV startup', 'Ecommerce', 'EdTech', 'EdTech Startup',\n",
       "       'EdTech, Education',\n",
       "       'EdTech, Education, Enterprise Software, Peer to Peer',\n",
       "       'EdTech, Education, Higher Education, Secondary Education',\n",
       "       'EdTech, Education, Information Services, SaaS',\n",
       "       'EdTech, Education, Knowledge Management',\n",
       "       'EdTech, Education, Mobile, Tutoring', 'EdtTech', 'Edtech',\n",
       "       'Education', 'Education Management',\n",
       "       'Education, Financial Services, FinTech',\n",
       "       'Education, Gaming, Training', 'Education, Human Resources',\n",
       "       'Education, Information Technology, Internet, Mobile, Software',\n",
       "       'Electric Vehicle', 'Electricity', 'Electronics',\n",
       "       'Embedded Systems, Health Care, Medical, Product Research',\n",
       "       'Energy, Energy Storage, Infrastructure',\n",
       "       'Energy, Environmental Consulting, Renewable Energy, Solar',\n",
       "       'Energy, Natural Resources', 'Energy, Renewable Energy, Solar',\n",
       "       'Energy, Solar',\n",
       "       'Enterprise Resource Planning (ERP), Information Services, Information Technology, Real Estate',\n",
       "       'Enterprise Software, Health Care, Hospital, Parenting, Personal Health, SaaS',\n",
       "       'Entertainment', 'Entreprenurship',\n",
       "       'Environmental Consulting, Renewable Energy',\n",
       "       'Environmental Services', 'Environmental service',\n",
       "       'Equity Management', 'Escrow', 'Estore', 'Events', 'Eye Wear',\n",
       "       'Eyeglasses', 'Eyewear', 'Eyewear, Internet', 'FM', 'FMCG',\n",
       "       'Facilities Services', 'Facilities Support Services',\n",
       "       'Fantasy Sports, Mobile, Sports', 'Fantasy sports', 'Farming',\n",
       "       'Fashion', 'Fashion & Lifestyle', 'Fashion Tech',\n",
       "       'Fashion and lifestyle', 'Fashion startup',\n",
       "       'Fashion, Graphic Design, Wearables', 'Fashion, Jewelry',\n",
       "       'Fashion, Lifestyle, Rental', 'Fashion, Lifestyle, Retail',\n",
       "       'FemTech', 'Femtech', 'Fertility tech',\n",
       "       'File Sharing, Personalization, Social Media', 'FinTech',\n",
       "       'FinTech, Internet, Payments, Service Industry',\n",
       "       'FinTech, Mobile, Mobile Payments, Payments, Retail Technology',\n",
       "       'Finance', 'Finance company', 'Finance, FinTech, Mobile Payments',\n",
       "       'Finance, FinTech, Payments, Property Development, Rental',\n",
       "       'Finance, Financial Exchanges, Financial Services, Micro Lending',\n",
       "       'Finance, Financial Services',\n",
       "       'Finance, Financial Services, FinTech',\n",
       "       'Finance, Financial Services, Insurance',\n",
       "       'Finance, Financial Services, Marketing',\n",
       "       'Finance, Financial Services, Small and Medium Businesses',\n",
       "       'Finance, Impact Investing, Internet',\n",
       "       'Finance, Impact Investing, Mobile Apps',\n",
       "       'Finance, Internet, Travel', 'Financial Services',\n",
       "       'Financial Services, FinTech',\n",
       "       'Financial Services, Insurance, Private Social Networking',\n",
       "       'Financial Services, Lending',\n",
       "       'Financial Services, Lending, Peer to Peer',\n",
       "       'Financial Services, Micro Lending',\n",
       "       'Financial Services, Professional Services',\n",
       "       'Financial Services, SaaS, Security',\n",
       "       'Financial Services, Venture Capital', 'Fintech', 'Fishery',\n",
       "       'Fitness', 'Fitness startup',\n",
       "       'Fitness, Food and Beverage, Health Care, Nutrition',\n",
       "       'Fitness, GreenTech, Internet of Things, Mobile Apps, Ride Sharing, Transportation',\n",
       "       'Fitness, Health Care, Wellness',\n",
       "       'Fitness, Sporting Goods, Sports', 'Food', 'Food & Bevarages',\n",
       "       'Food & Beverages', 'Food & Logistics', 'Food & Nutrition',\n",
       "       'Food & tech', 'Food Delivery',\n",
       "       'Food Delivery, Food Processing, Internet',\n",
       "       'Food Delivery, Hospitality, Reservations, Restaurants, Search Engine',\n",
       "       'Food Delivery, Online Portals, Restaurants',\n",
       "       'Food Delivery, Organic, Organic Food', 'Food Industry',\n",
       "       'Food Processing', 'Food Processing, Retail', 'Food Production',\n",
       "       'Food Startup', 'Food and Beverage',\n",
       "       'Food and Beverage, Food Delivery',\n",
       "       'Food and Beverage, Food Delivery, Internet',\n",
       "       'Food and Beverage, Food Delivery, Snack Food',\n",
       "       'Food and Beverage, Food Processing',\n",
       "       'Food and Beverage, Food Processing, Manufacturing',\n",
       "       'Food and Beverage, Food Processing, Nutrition',\n",
       "       'Food and Beverage, Food Processing, Organic Food, Snack Food',\n",
       "       'Food and Beverage, Restaurants, Tea',\n",
       "       'Food and Beverage, Snack Food',\n",
       "       'Food and Beverage, Snack Food, Tea', 'Food and Beverage, Tea',\n",
       "       'Food and Beverages', 'Food delivery', 'Food devlivery',\n",
       "       'Food diet', 'Food tech', 'FoodTech', 'Foodtech',\n",
       "       'Foodtech & Logistics', 'Foootwear',\n",
       "       'Fraud Detection, Information Services, Security',\n",
       "       'Funding Platform, Incubators, Non Profit', 'Furniture',\n",
       "       'Furniture Rental', 'Fusion beverages', 'Games', 'Gaming',\n",
       "       'Gaming startup', 'Gaming, iOS, Sports',\n",
       "       'Government, Information Technology, Software', 'HR', 'HR Tech',\n",
       "       'HR Tech startup', 'HR tech', 'HRTech', 'Hauz Khas', 'Healtcare',\n",
       "       'Health', 'Health & Wellness', 'Health Care',\n",
       "       'Health Care, Health Diagnostics, Internet of Things, Life Science, Machine Learning, Medical, Medical Device',\n",
       "       'Health Care, Health Diagnostics, Predictive Analytics',\n",
       "       'Health Care, Health Insurance', 'Health Care, Hospital',\n",
       "       'Health Care, Hospital, Medical',\n",
       "       'Health Care, Hospital, Medical, Robotics',\n",
       "       'Health Care, Hospital, Supply Chain Management',\n",
       "       'Health Care, Hospital, Wellness', 'Health Care, Hospitality',\n",
       "       'Health Care, Information Technology',\n",
       "       'Health Care, Information Technology, Management Information Systems',\n",
       "       'Health Care, Medical', 'Health Care, Medical Device, Mobile Apps',\n",
       "       'Health Care, Medical Device, Public Safety',\n",
       "       'Health Care, Medical, Pharmaceutical',\n",
       "       'Health Care, Pharmaceutical, Wellness', 'Health Diagnostics',\n",
       "       'Health Insurance, Insurance, Life Insurance',\n",
       "       'Health and Fitness', 'Health care', 'Health, Wellness & Fitness',\n",
       "       'HealthCare', 'HealthTech', 'Healthcare', 'Healthcare/Edtech',\n",
       "       'Healthtech', 'HeathTech', 'Heathcare', 'Helathcare',\n",
       "       'Higher Education', 'Home Decor',\n",
       "       'Home Decor, Home Improvement, Home Renovation, Home Services, Interior Design, Smart Home',\n",
       "       'Home Decor, Interior Design', 'Home Design',\n",
       "       'Home interior services', 'Home services', 'Hospital',\n",
       "       'Hospital & Health Care', 'Hospitality',\n",
       "       'Hospitality, Hotel, Leisure, Travel',\n",
       "       'Hospitality, Information Technology, Travel Accommodations',\n",
       "       'Hospitality, Real Estate', 'Housing', 'Housing & Rentals',\n",
       "       'Housing Marketplace', 'HrTech', 'Human Resources',\n",
       "       'Human Resources, Security, Training', 'Hygiene',\n",
       "       'Hygiene management', 'IT', 'IT company', 'IT startup',\n",
       "       'Industrial Automation',\n",
       "       'Industrial Automation, Logistics, Supply Chain Management',\n",
       "       'Industrial, Industrial Automation', 'Information Services',\n",
       "       'Information Services, Information Technology',\n",
       "       'Information Services, Information Technology, InsurTech',\n",
       "       'Information Services, Information Technology, Mobile, Software',\n",
       "       'Information Services, Internet, Logistics, Supply Chain Management, Transportation',\n",
       "       'Information Technology', 'Information Technology & Services',\n",
       "       'Information Technology, Logistics, Supply Chain Management',\n",
       "       'Information Technology, Mobile, News, Operating Systems, Social Media, Social News',\n",
       "       'Information Technology, SaaS, Security', 'Infratech',\n",
       "       'Innovation Management', 'Innovation management', 'Insurance',\n",
       "       'Insurance Tech', 'Insurance technology', 'InsureTech',\n",
       "       'Insuretech', 'Insurtech', 'Interior & decor', 'Interior Design',\n",
       "       'Interior design', 'Internet', 'Internet of Things, Robotics',\n",
       "       'Internet of Things, Telecommunications',\n",
       "       'Internet of Things, Waste Management',\n",
       "       'Internet, Knowledge Management', 'Internet, Leisure, Marketplace',\n",
       "       'Internet, Marketplace, Shopping',\n",
       "       'Internet, Mobile Apps, Social Network',\n",
       "       'Internet, Mobile, Social Entrepreneurship, Telecommunications, Wireless',\n",
       "       'Internet, Social Entrepreneurship',\n",
       "       'Internet, Social Network, TV', 'Internet, Social News, Sports',\n",
       "       'Internet, Software', 'Investment', 'Investment Banking',\n",
       "       'Investment Management', 'Investment Tech', 'IoT', 'IoT platform',\n",
       "       'IoT startup', 'IoT/Automobile', 'Jewellery', 'Jewellery startup',\n",
       "       'Job discovery platform', 'Job portal',\n",
       "       'Last Mile Transportation, Railroad, Transportation, Travel',\n",
       "       'Legal', 'Legal Services', 'Legal tech', 'LegalTech', 'Legaltech',\n",
       "       'Life sciences', 'Lifestyle', 'Linguistic Spiritual',\n",
       "       'Location Analytics', 'Logistics', 'Logistics & Supply Chain',\n",
       "       'Logistics, Railroad, Transportation',\n",
       "       'Logistics, Supply Chain Management',\n",
       "       'Logistics, Transportation, Travel', 'Logitech',\n",
       "       'Luxury car startup', 'MLOps platform', 'Machine Learning',\n",
       "       'Management Consulting', 'Manchester, Greater Manchester',\n",
       "       'Manufacturing', 'Manufacturing startup',\n",
       "       'Manufacturing, Oil and Gas, Robotics', 'Manufacturing, Retail',\n",
       "       'MarTech', 'Maritime', 'Market Research', 'Marketing',\n",
       "       'Marketing & Advertising', 'Marketing & Customer loyalty',\n",
       "       'Marketing company', 'Marketing startup',\n",
       "       'Marketing, Social Media, Video', 'Marketplace',\n",
       "       'Marketplace, Real Estate, Rental Property', 'Matrimony',\n",
       "       'Mechanical & Industrial Engineering',\n",
       "       'Mechanical Or Industrial Engineering', 'Med Tech', 'Media',\n",
       "       'Media & Networking', 'Media Tech',\n",
       "       'Media and Entertainment, News, Outdoors',\n",
       "       'Media and Entertainment, News, Publishing', 'Medical',\n",
       "       'Medical Device', 'Medical, Tourism', 'Medtech', 'Mental Health',\n",
       "       'Merchandise', 'Micro-mobiity', 'Milk startup',\n",
       "       \"MoEVing is India's only Electric Mobility focused Technology Platform with a vision to accelerate EV adoption in India.\",\n",
       "       'Mobile', 'Mobile Games', 'Mobile Payments',\n",
       "       'Mobile, Mobile Apps, Personalization, Test and Measurement, Web Apps',\n",
       "       'Mobile, Software, Travel', 'Mobility', 'Mobility tech',\n",
       "       'Mobility/Transport', 'Multinational conglomerate company',\n",
       "       'Music', 'Music Streaming', 'Music, Social Network, Video',\n",
       "       'Mutual Funds', 'NFT', 'NFT Marketplace',\n",
       "       'Nano Distribution Network', 'Nanotechnology', 'Neo-banking',\n",
       "       'Networking', 'Networking platform',\n",
       "       'News, Publishing, Social Media', 'Nutrition', 'Nutrition Tech',\n",
       "       'Nutrition sector', 'Nutrition tech', 'OTT', 'Oil & Energy',\n",
       "       'Oil and Energy', 'Online Games, Software', 'Online Media',\n",
       "       'Online Portals, Property Management, Rental',\n",
       "       'Online credit management startup', 'Online financial service',\n",
       "       'Online storytelling', 'PaaS startup', 'Packaging Services',\n",
       "       'Packaging solution startup', 'Personal Care',\n",
       "       'Personal care startup', 'Pet care', 'Pharma', 'Pharmaceutical',\n",
       "       'Pharmacy', 'Photonics startup', 'Podcast',\n",
       "       'Pollution control equiptment', 'Preschool Daycare',\n",
       "       'Primary Business is Development and Manufacturing of Novel Healthcare Products in Effervescent forms using imported propriety ingredients.',\n",
       "       'Product studio', 'Professional Training & Coaching', 'Proptech',\n",
       "       'Publication', 'QSR startup', 'Reading Apps', 'Real Estate',\n",
       "       'Real estate', 'Reatil startup', 'Recruitment',\n",
       "       'Recruitment startup', 'Renewable Energy', 'Renewable player',\n",
       "       'Renewables & Environment', 'Rental', 'Rental space',\n",
       "       'Rental, Taxi Service, Travel', 'Retail', 'Retail Aggregator',\n",
       "       'Retail Tech', 'Retail startup', 'Robotics', 'Robotics & AI',\n",
       "       'SaaS', 'SaaS platform', 'SaaS startup', 'SaaS/Edtech',\n",
       "       'SaaS\\xa0\\xa0startup', 'Safety tech', 'Sales & Services',\n",
       "       'Sales and Distribution', 'Sanitation solutions', 'Scanning app',\n",
       "       'Search Engine', 'Service industry', 'Skill development',\n",
       "       'Skincare startup', 'Sles and marketing',\n",
       "       'Smart Cities, Telecommunications',\n",
       "       'Sochcast is an Audio experiences company that give the listener and creators an Immersive Audio experience',\n",
       "       'Social Commerce', 'Social Media', 'Social Media, Sports',\n",
       "       'Social Network', 'Social audio', 'Social commerce',\n",
       "       'Social community', 'Social e-commerce', 'Social media',\n",
       "       'Social network', 'Social platform', 'Software',\n",
       "       'Software Company', 'Software Startup', 'Software company',\n",
       "       'Software, Virtual Reality', 'Soil-Tech', 'Solar',\n",
       "       'Solar Monitoring Company', 'Solar SaaS', 'Solar Solution',\n",
       "       'Solar solution', 'SpaceTech', 'Spacetech', 'Spiritual', 'Sports',\n",
       "       'Sports startup', 'SportsTech', 'Staffing & Recruiting',\n",
       "       'Startup laboratory', 'Supply chain platform',\n",
       "       'Supply chain, Agritech', 'TaaS startup', 'Taxation', 'Tech',\n",
       "       'Tech Startup', 'Tech company', 'Tech hub', 'Tech platform',\n",
       "       'Tech startup', 'Technology', 'Techonology', 'Telecommuncation',\n",
       "       'Telecommunication', 'Telecommunications', 'Textiles', 'Tobacco',\n",
       "       'Tourism', 'Tourism & EV', 'Tourism, Travel', 'Trading Platform',\n",
       "       'Trading platform', 'Training', 'Translation & Localization',\n",
       "       'Transport', 'Transport & Rentals', 'Transport Automation',\n",
       "       'Transportation', 'Travel', 'Travel & SaaS', 'Travel tech',\n",
       "       'TravelTech', 'Tyre management', 'VR & SaaS',\n",
       "       'Vehicle repair startup', 'Venture Capital',\n",
       "       'Venture Capital & Private Equity', 'Venture capital',\n",
       "       'Venture capitalist', 'Veterinary', 'Video', 'Video communication',\n",
       "       'Video personalization', 'Video platform',\n",
       "       'Video sharing platform', 'Video streaming platform',\n",
       "       'Virtual Banking', 'Virtual auditing startup', 'Visual Media',\n",
       "       'WL & RAC protection', 'Warehouse', 'Water purification',\n",
       "       'Wealth Management', 'Wedding', 'Wellness', 'Wholesale',\n",
       "       'Wine & Spirits', 'Work fulfillment', 'Yoga & wellness',\n",
       "       'eMobility', 'eSports, Gaming, Video Games', 'sports', '—', None,\n",
       "       nan], dtype=object)"
      ]
     },
     "execution_count": 38,
     "metadata": {},
     "output_type": "execute_result"
    }
   ],
   "source": [
    "main_df[\"Sector\"].sort_values().unique()"
   ]
  },
  {
   "cell_type": "code",
   "execution_count": 39,
   "metadata": {},
   "outputs": [],
   "source": [
    "# Define your categorization mapping\n",
    "def categorize_sector(sector):\n",
    "    if pd.isna(sector):\n",
    "        return 'Others'\n",
    "    elif any(keyword in sector for keyword in ['IT', 'Technology', 'Tech']):\n",
    "        return 'IT & Technology'\n",
    "    elif any(keyword in sector for keyword in ['Finance', 'Financial', 'Banking']):\n",
    "        return 'Financial Services'\n",
    "    elif any(keyword in sector for keyword in ['Healthcare', 'Life Sciences', 'Med']):\n",
    "        return 'Healthcare & Life Sciences'\n",
    "    elif any(keyword in sector for keyword in ['Consumer', 'Goods']):\n",
    "        return 'Consumer Goods'\n",
    "    elif any(keyword in sector for keyword in ['Business', 'Consulting', 'Services']):\n",
    "        return 'Business Services'\n",
    "    elif any(keyword in sector for keyword in ['Media', 'Entertainment', 'Marketing']):\n",
    "        return 'Media & Entertainment'\n",
    "    elif any(keyword in sector for keyword in ['Education']):\n",
    "        return 'Education'\n",
    "    elif any(keyword in sector for keyword in ['Manufacturing']):\n",
    "        return 'Manufacturing'\n",
    "    elif any(keyword in sector for keyword in ['Retail']):\n",
    "        return 'Retail'\n",
    "    elif any(keyword in sector for keyword in ['Transportation', 'Logistics', 'Travel']):\n",
    "        return 'Transportation & Logistics'\n",
    "    elif any(keyword in sector for keyword in ['Sports']):\n",
    "        return 'Sports'\n",
    "    elif any(keyword in sector for keyword in ['Agriculture']):\n",
    "        return 'Agriculture'\n",
    "    elif any(keyword in sector for keyword in ['Real Estate']):\n",
    "        return 'Real Estate'\n",
    "    elif any(keyword in sector for keyword in ['Travel', 'Tourism']):\n",
    "        return 'Travel & Tourism'\n",
    "    elif any(keyword in sector for keyword in ['Energy']):\n",
    "        return 'Energy'\n",
    "    else:\n",
    "        return 'Others'\n",
    "\n",
    "# Apply the categorization function to the 'sector' column\n",
    "main_df['Sector'] = main_df['Sector'].apply(categorize_sector)\n",
    "\n",
    "# Ensure there are no null values\n",
    "main_df['sector'] = main_df['Sector'].replace(np.nan, 'Others')\n",
    "\n"
   ]
  },
  {
   "cell_type": "code",
   "execution_count": 40,
   "metadata": {},
   "outputs": [
    {
     "name": "stderr",
     "output_type": "stream",
     "text": [
      "C:\\Users\\HP\\AppData\\Local\\Temp\\ipykernel_3052\\2159351662.py:1: FutureWarning: A value is trying to be set on a copy of a DataFrame or Series through chained assignment using an inplace method.\n",
      "The behavior will change in pandas 3.0. This inplace method will never work because the intermediate object on which we are setting values always behaves as a copy.\n",
      "\n",
      "For example, when doing 'df[col].method(value, inplace=True)', try using 'df.method({col: value}, inplace=True)' or df[col] = df[col].method(value) instead, to perform the operation inplace on the original object.\n",
      "\n",
      "\n",
      "  main_df['Sector'].fillna('Others', inplace=True)\n"
     ]
    }
   ],
   "source": [
    "main_df['Sector'].fillna('Others', inplace=True)"
   ]
  },
  {
   "cell_type": "code",
   "execution_count": 41,
   "metadata": {},
   "outputs": [
    {
     "data": {
      "text/plain": [
       "Index(['Company/Brand', 'Founded', 'HeadQuarter', 'Sector', 'What it does',\n",
       "       'Founders', 'Investor', 'Amount', 'Stage', 'sector'],\n",
       "      dtype='object')"
      ]
     },
     "execution_count": 41,
     "metadata": {},
     "output_type": "execute_result"
    }
   ],
   "source": [
    "main_df.columns"
   ]
  },
  {
   "cell_type": "code",
   "execution_count": 42,
   "metadata": {},
   "outputs": [
    {
     "data": {
      "text/plain": [
       "Index(['Company/Brand', 'Founded', 'HeadQuarter', 'Sector', 'What it does',\n",
       "       'Founders', 'Investor', 'Amount', 'Stage', 'sector'],\n",
       "      dtype='object')"
      ]
     },
     "execution_count": 42,
     "metadata": {},
     "output_type": "execute_result"
    }
   ],
   "source": [
    "main_df.columns"
   ]
  },
  {
   "cell_type": "markdown",
   "metadata": {},
   "source": [
    "## CLEANING STAGE COLUMN"
   ]
  },
  {
   "cell_type": "code",
   "execution_count": 43,
   "metadata": {},
   "outputs": [
    {
     "name": "stdout",
     "output_type": "stream",
     "text": [
      "['Other' 'Seed Funding' 'Pre-Series Funding' 'Series Funding'\n",
      " 'Debt Financing' 'Bridge Funding' 'Equity Financing']\n"
     ]
    }
   ],
   "source": [
    "# Define consolidated funding categories\n",
    "valid_stages = {\n",
    "    'Seed Funding': ['Pre-seed', 'Seed', 'Seed Funding', 'Seed Round', 'Seed round', 'Seed+', 'Pre-seed Round', 'Seed Investment'],\n",
    "    'Series Funding': ['Series A', 'Series B', 'Series C', 'Series D', 'Series E', 'Series F', 'Series G', 'Series H', 'Series I', 'Series A-1', 'Series B1', 'Series B+', 'Series A+', 'Series D1'],\n",
    "    'Pre-Series Funding': ['Pre-series A', 'Pre-series B', 'Pre-series C', 'Pre-series', 'Pre Series A'],\n",
    "    'Bridge Funding': ['Bridge', 'Bridge Round'],\n",
    "    'Equity Financing': ['Angel', 'Angel Round', 'Private Equity', 'Post-IPO Equity', 'Corporate Round'],\n",
    "    'Debt Financing': ['Debt', 'Debt Financing', 'Post-IPO Debt'],\n",
    "    'Other': ['Venture - Series Unknown', 'Grant', 'Secondary Market', 'Non-equity Assistance', 'Funding Round']\n",
    "}\n",
    "\n",
    "# Function to clean and categorize the 'Stage' column\n",
    "def clean_stage(stage):\n",
    "    if pd.isna(stage):  # Check if the stage is NaN\n",
    "        return 'Other'  # Categorize nulls as 'Other'\n",
    "    for category, stages in valid_stages.items():\n",
    "        if stage in stages:\n",
    "            return category\n",
    "    return 'Other'  # Default to 'Other' for any unmatched stages\n",
    "\n",
    "# Apply the cleaning function to the 'Stage' column\n",
    "main_df['Stage'] = main_df['Stage'].apply(clean_stage)\n",
    "\n",
    "# Display the cleaned 'Stage' column\n",
    "print(main_df['Stage'].unique())\n"
   ]
  },
  {
   "cell_type": "code",
   "execution_count": 44,
   "metadata": {},
   "outputs": [
    {
     "data": {
      "text/plain": [
       "Company/Brand      0\n",
       "Founded          769\n",
       "HeadQuarter      114\n",
       "Sector             0\n",
       "What it does       0\n",
       "Founders         545\n",
       "Investor         626\n",
       "Amount             0\n",
       "Stage              0\n",
       "sector             0\n",
       "dtype: int64"
      ]
     },
     "execution_count": 44,
     "metadata": {},
     "output_type": "execute_result"
    }
   ],
   "source": [
    "main_df.isnull().sum()"
   ]
  },
  {
   "cell_type": "code",
   "execution_count": 45,
   "metadata": {},
   "outputs": [
    {
     "name": "stdout",
     "output_type": "stream",
     "text": [
      "<class 'pandas.core.frame.DataFrame'>\n",
      "RangeIndex: 2879 entries, 0 to 2878\n",
      "Data columns (total 10 columns):\n",
      " #   Column         Non-Null Count  Dtype  \n",
      "---  ------         --------------  -----  \n",
      " 0   Company/Brand  2879 non-null   object \n",
      " 1   Founded        2110 non-null   float64\n",
      " 2   HeadQuarter    2765 non-null   object \n",
      " 3   Sector         2879 non-null   object \n",
      " 4   What it does   2879 non-null   object \n",
      " 5   Founders       2334 non-null   object \n",
      " 6   Investor       2253 non-null   object \n",
      " 7   Amount         2879 non-null   float64\n",
      " 8   Stage          2879 non-null   object \n",
      " 9   sector         2879 non-null   object \n",
      "dtypes: float64(2), object(8)\n",
      "memory usage: 225.1+ KB\n"
     ]
    }
   ],
   "source": [
    "main_df.info()"
   ]
  },
  {
   "cell_type": "code",
   "execution_count": 46,
   "metadata": {},
   "outputs": [
    {
     "data": {
      "text/plain": [
       "<Axes: >"
      ]
     },
     "execution_count": 46,
     "metadata": {},
     "output_type": "execute_result"
    },
    {
     "data": {
      "image/png": "[encoded data removed]",
      "text/plain": [
       "<Figure size 2500x1000 with 2 Axes>"
      ]
     },
     "metadata": {},
     "output_type": "display_data"
    }
   ],
   "source": [
    "# visualize the null values\n",
    "msno.matrix(main_df)"
   ]
  },
  {
   "cell_type": "markdown",
   "metadata": {},
   "source": [
    "## CLEANING THE INVESTOR COLUMN"
   ]
  },
  {
   "cell_type": "code",
   "execution_count": 47,
   "metadata": {},
   "outputs": [],
   "source": [
    "main_df[\"Investor\"] = main_df[\"Investor\"].fillna(\"Undisclosed\")\n"
   ]
  },
  {
   "cell_type": "code",
   "execution_count": 48,
   "metadata": {},
   "outputs": [
    {
     "data": {
      "text/plain": [
       "Company/Brand      0\n",
       "Founded          769\n",
       "HeadQuarter      114\n",
       "Sector             0\n",
       "What it does       0\n",
       "Founders         545\n",
       "Investor           0\n",
       "Amount             0\n",
       "Stage              0\n",
       "sector             0\n",
       "dtype: int64"
      ]
     },
     "execution_count": 48,
     "metadata": {},
     "output_type": "execute_result"
    }
   ],
   "source": [
    "main_df.isnull().sum()"
   ]
  },
  {
   "cell_type": "markdown",
   "metadata": {},
   "source": [
    "## DROPPING COLUMNS NOT NEEDED"
   ]
  },
  {
   "cell_type": "code",
   "execution_count": 49,
   "metadata": {},
   "outputs": [],
   "source": [
    "main_df.drop(columns=[\"Founders\"], inplace=True)\n"
   ]
  },
  {
   "cell_type": "code",
   "execution_count": 50,
   "metadata": {},
   "outputs": [
    {
     "data": {
      "text/plain": [
       "Company/Brand      0\n",
       "Founded          769\n",
       "HeadQuarter      114\n",
       "Sector             0\n",
       "What it does       0\n",
       "Investor           0\n",
       "Amount             0\n",
       "Stage              0\n",
       "sector             0\n",
       "dtype: int64"
      ]
     },
     "execution_count": 50,
     "metadata": {},
     "output_type": "execute_result"
    }
   ],
   "source": [
    "main_df.isnull().sum()"
   ]
  },
  {
   "cell_type": "code",
   "execution_count": 51,
   "metadata": {},
   "outputs": [
    {
     "data": {
      "text/html": [
       "<div>\n",
       "<style scoped>\n",
       "    .dataframe tbody tr th:only-of-type {\n",
       "        vertical-align: middle;\n",
       "    }\n",
       "\n",
       "    .dataframe tbody tr th {\n",
       "        vertical-align: top;\n",
       "    }\n",
       "\n",
       "    .dataframe thead th {\n",
       "        text-align: right;\n",
       "    }\n",
       "</style>\n",
       "<table border=\"1\" class=\"dataframe\">\n",
       "  <thead>\n",
       "    <tr style=\"text-align: right;\">\n",
       "      <th></th>\n",
       "      <th>Company/Brand</th>\n",
       "      <th>Founded</th>\n",
       "      <th>Headquarter</th>\n",
       "      <th>Sector</th>\n",
       "      <th>About</th>\n",
       "      <th>Investor</th>\n",
       "      <th>Amount</th>\n",
       "      <th>Stage</th>\n",
       "      <th>Sector</th>\n",
       "    </tr>\n",
       "  </thead>\n",
       "  <tbody>\n",
       "    <tr>\n",
       "      <th>0</th>\n",
       "      <td>Aqgromalin</td>\n",
       "      <td>2019.0</td>\n",
       "      <td>Chennai</td>\n",
       "      <td>IT &amp; Technology</td>\n",
       "      <td>Cultivating Ideas for Profit</td>\n",
       "      <td>Angel investors</td>\n",
       "      <td>200000.0</td>\n",
       "      <td>Other</td>\n",
       "      <td>IT &amp; Technology</td>\n",
       "    </tr>\n",
       "    <tr>\n",
       "      <th>1</th>\n",
       "      <td>Krayonnz</td>\n",
       "      <td>2019.0</td>\n",
       "      <td>Bangalore</td>\n",
       "      <td>IT &amp; Technology</td>\n",
       "      <td>An academy-guardian-scholar centric ecosystem ...</td>\n",
       "      <td>GSF Accelerator</td>\n",
       "      <td>100000.0</td>\n",
       "      <td>Seed Funding</td>\n",
       "      <td>IT &amp; Technology</td>\n",
       "    </tr>\n",
       "  </tbody>\n",
       "</table>\n",
       "</div>"
      ],
      "text/plain": [
       "  Company/Brand  Founded Headquarter           Sector  \\\n",
       "0    Aqgromalin   2019.0     Chennai  IT & Technology   \n",
       "1      Krayonnz   2019.0   Bangalore  IT & Technology   \n",
       "\n",
       "                                               About         Investor  \\\n",
       "0                       Cultivating Ideas for Profit  Angel investors   \n",
       "1  An academy-guardian-scholar centric ecosystem ...  GSF Accelerator   \n",
       "\n",
       "     Amount         Stage           Sector  \n",
       "0  200000.0         Other  IT & Technology  \n",
       "1  100000.0  Seed Funding  IT & Technology  "
      ]
     },
     "execution_count": 51,
     "metadata": {},
     "output_type": "execute_result"
    }
   ],
   "source": [
    "# Rename some columns\n",
    "main_df.rename(columns={'HeadQuarter': 'Headquarter', 'What it does': 'About', 'sector': 'Sector'}, inplace= True)\n",
    "main_df.head(2)"
   ]
  },
  {
   "cell_type": "markdown",
   "metadata": {},
   "source": [
    "## CLEANING THE FOUNDED COLUMN"
   ]
  },
  {
   "cell_type": "code",
   "execution_count": 52,
   "metadata": {},
   "outputs": [
    {
     "data": {
      "text/plain": [
       "array([2019., 2018., 2020., 2016., 2008., 2015., 2017., 2014., 1998.,\n",
       "       2007., 2011., 1982., 2013., 2009., 2012., 1995., 2010., 2006.,\n",
       "       1978.,   nan, 1999., 1994., 2005., 1973., 2002., 2004., 2001.,\n",
       "       2021., 1993., 1989., 2000., 2003., 1991., 1984., 1963.])"
      ]
     },
     "execution_count": 52,
     "metadata": {},
     "output_type": "execute_result"
    }
   ],
   "source": [
    "main_df['Founded'].unique()"
   ]
  },
  {
   "cell_type": "code",
   "execution_count": 53,
   "metadata": {},
   "outputs": [],
   "source": [
    "main_df.dropna(subset=['Founded'], inplace=True)"
   ]
  },
  {
   "cell_type": "code",
   "execution_count": 54,
   "metadata": {},
   "outputs": [
    {
     "data": {
      "text/plain": [
       "array([2019., 2018., 2020., 2016., 2008., 2015., 2017., 2014., 1998.,\n",
       "       2007., 2011., 1982., 2013., 2009., 2012., 1995., 2010., 2006.,\n",
       "       1978., 1999., 1994., 2005., 1973., 2002., 2004., 2001., 2021.,\n",
       "       1993., 1989., 2000., 2003., 1991., 1984., 1963.])"
      ]
     },
     "execution_count": 54,
     "metadata": {},
     "output_type": "execute_result"
    }
   ],
   "source": [
    "main_df['Founded'].unique()"
   ]
  },
  {
   "cell_type": "code",
   "execution_count": 55,
   "metadata": {},
   "outputs": [],
   "source": [
    "# Convert the 'founded' column to integers, while handling NaN values\n",
    "main_df['Founded'] = main_df['Founded'].fillna(0).astype(int)"
   ]
  },
  {
   "cell_type": "code",
   "execution_count": 56,
   "metadata": {},
   "outputs": [],
   "source": [
    "main_df['Founded'] = main_df['Founded'].astype('int64')\n"
   ]
  },
  {
   "cell_type": "code",
   "execution_count": 57,
   "metadata": {},
   "outputs": [
    {
     "data": {
      "text/plain": [
       "Company/Brand     0\n",
       "Founded           0\n",
       "Headquarter      73\n",
       "Sector            0\n",
       "About             0\n",
       "Investor          0\n",
       "Amount            0\n",
       "Stage             0\n",
       "Sector            0\n",
       "dtype: int64"
      ]
     },
     "execution_count": 57,
     "metadata": {},
     "output_type": "execute_result"
    }
   ],
   "source": [
    "main_df.isnull().sum()"
   ]
  },
  {
   "cell_type": "markdown",
   "metadata": {},
   "source": [
    "## CLEANING THE HEADQUATER COLUMN"
   ]
  },
  {
   "cell_type": "code",
   "execution_count": 58,
   "metadata": {},
   "outputs": [
    {
     "data": {
      "text/plain": [
       "array(['Chennai', 'Bangalore', 'Pune', 'New Delhi', 'Indore', 'Hyderabad',\n",
       "       'Gurgaon', 'Belgaum', 'Noida', 'Mumbai', 'Andheri', 'Jaipur',\n",
       "       'Ahmedabad', 'Kolkata', 'Tirunelveli, Tamilnadu', 'Thane', None,\n",
       "       'Singapore', 'Gurugram', 'Gujarat', 'Haryana', 'Kerala', 'Jodhpur',\n",
       "       'Jaipur, Rajastan', 'Frisco, Texas, United States', 'California',\n",
       "       'Dhingsara, Haryana', 'New York, United States', 'Patna',\n",
       "       'San Francisco, California, United States',\n",
       "       'San Francisco, United States', 'San Ramon, California',\n",
       "       'Paris, Ile-de-France, France', 'Plano, Texas, United States',\n",
       "       'Sydney', 'San Francisco Bay Area, Silicon Valley, West Coast',\n",
       "       'Bangaldesh', 'London, England, United Kingdom',\n",
       "       'Sydney, New South Wales, Australia', 'Milano, Lombardia, Italy',\n",
       "       'Palmwoods, Queensland, Australia', 'France',\n",
       "       'San Francisco Bay Area, West Coast, Western US',\n",
       "       'Trivandrum, Kerala, India', 'Cochin', 'Samastipur, Bihar',\n",
       "       'Irvine, California, United States', 'Tumkur, Karnataka',\n",
       "       'Newcastle Upon Tyne, Newcastle upon Tyne, United Kingdom',\n",
       "       'Shanghai, China', 'Jiaxing, Zhejiang, China', 'Rajastan', 'Kochi',\n",
       "       'Ludhiana', 'Dehradun', 'San Franciscao', 'San Francisco',\n",
       "       'Tangerang, Jawa Barat, Indonesia', 'Berlin', 'Seattle', 'Riyadh',\n",
       "       'Seoul', 'New York', 'Bangkok', 'Kanpur', 'Chandigarh', 'Delhi',\n",
       "       'Warangal', 'Odisha', 'Bihar', 'Goa', 'Tamil Nadu',\n",
       "       'Uttar Pradesh', 'Bhopal', 'Banglore', 'Ahmadabad',\n",
       "       'Small Towns, Andhra Pradesh', 'Rajsamand', 'Ranchi',\n",
       "       'Faridabad, Haryana', 'Computer Games', 'Vadodara',\n",
       "       'Food & Beverages', 'Pharmaceuticals\\t#REF!', 'Gurugram\\t#REF!',\n",
       "       'Mohali', 'Powai', 'Ghaziabad', 'Nagpur', 'West Bengal',\n",
       "       'Samsitpur', 'Lucknow', 'Telangana', 'Silvassa',\n",
       "       'Thiruvananthapuram', 'Faridabad', 'Roorkee', 'Ambernath',\n",
       "       'Panchkula', 'Surat', 'Coimbatore', 'Mangalore', 'Telugana',\n",
       "       'Bhubaneswar', 'Kottayam', 'Beijing', 'Panaji', 'Satara',\n",
       "       'Orissia', 'Santra', 'Mountain View, CA', 'Trivandrum',\n",
       "       'Jharkhand', 'Bhilwara', 'Guwahati', 'Online Media\\t#REF!',\n",
       "       'London', 'Information Technology & Services', 'The Nilgiris',\n",
       "       'Gandhinagar', nan], dtype=object)"
      ]
     },
     "execution_count": 58,
     "metadata": {},
     "output_type": "execute_result"
    }
   ],
   "source": [
    "main_df['Headquarter'].unique()"
   ]
  },
  {
   "cell_type": "code",
   "execution_count": 59,
   "metadata": {},
   "outputs": [
    {
     "data": {
      "text/html": [
       "<div>\n",
       "<style scoped>\n",
       "    .dataframe tbody tr th:only-of-type {\n",
       "        vertical-align: middle;\n",
       "    }\n",
       "\n",
       "    .dataframe tbody tr th {\n",
       "        vertical-align: top;\n",
       "    }\n",
       "\n",
       "    .dataframe thead th {\n",
       "        text-align: right;\n",
       "    }\n",
       "</style>\n",
       "<table border=\"1\" class=\"dataframe\">\n",
       "  <thead>\n",
       "    <tr style=\"text-align: right;\">\n",
       "      <th></th>\n",
       "      <th>Founded</th>\n",
       "      <th>Amount</th>\n",
       "    </tr>\n",
       "  </thead>\n",
       "  <tbody>\n",
       "    <tr>\n",
       "      <th>count</th>\n",
       "      <td>2110.000000</td>\n",
       "      <td>2.110000e+03</td>\n",
       "    </tr>\n",
       "    <tr>\n",
       "      <th>mean</th>\n",
       "      <td>2016.079621</td>\n",
       "      <td>1.293743e+08</td>\n",
       "    </tr>\n",
       "    <tr>\n",
       "      <th>std</th>\n",
       "      <td>4.368006</td>\n",
       "      <td>3.603818e+09</td>\n",
       "    </tr>\n",
       "    <tr>\n",
       "      <th>min</th>\n",
       "      <td>1963.000000</td>\n",
       "      <td>2.000000e+04</td>\n",
       "    </tr>\n",
       "    <tr>\n",
       "      <th>25%</th>\n",
       "      <td>2015.000000</td>\n",
       "      <td>1.125000e+06</td>\n",
       "    </tr>\n",
       "    <tr>\n",
       "      <th>50%</th>\n",
       "      <td>2017.000000</td>\n",
       "      <td>3.000000e+06</td>\n",
       "    </tr>\n",
       "    <tr>\n",
       "      <th>75%</th>\n",
       "      <td>2019.000000</td>\n",
       "      <td>1.000000e+07</td>\n",
       "    </tr>\n",
       "    <tr>\n",
       "      <th>max</th>\n",
       "      <td>2021.000000</td>\n",
       "      <td>1.500000e+11</td>\n",
       "    </tr>\n",
       "  </tbody>\n",
       "</table>\n",
       "</div>"
      ],
      "text/plain": [
       "           Founded        Amount\n",
       "count  2110.000000  2.110000e+03\n",
       "mean   2016.079621  1.293743e+08\n",
       "std       4.368006  3.603818e+09\n",
       "min    1963.000000  2.000000e+04\n",
       "25%    2015.000000  1.125000e+06\n",
       "50%    2017.000000  3.000000e+06\n",
       "75%    2019.000000  1.000000e+07\n",
       "max    2021.000000  1.500000e+11"
      ]
     },
     "execution_count": 59,
     "metadata": {},
     "output_type": "execute_result"
    }
   ],
   "source": [
    "main_df.describe()"
   ]
  },
  {
   "cell_type": "code",
   "execution_count": 60,
   "metadata": {},
   "outputs": [
    {
     "name": "stdout",
     "output_type": "stream",
     "text": [
      "['Chennai' 'Bangalore' 'Pune' 'New Delhi' 'Indore' 'Hyderabad' 'Gurgaon'\n",
      " 'Belgaum' 'Noida' 'Mumbai' 'Andheri' 'Jaipur' 'Ahmedabad' 'Kolkata'\n",
      " 'Tirunelveli, Tamilnadu' 'Thane' None 'Singapore' 'Gurugram' 'Gujarat'\n",
      " 'Haryana' 'Kerala' 'Jodhpur' 'Jaipur, Rajastan'\n",
      " 'Frisco, Texas, United States' 'California' 'Dhingsara, Haryana'\n",
      " 'New York, United States' 'Patna'\n",
      " 'San Francisco, California, United States' 'San Francisco, United States'\n",
      " 'San Ramon, California' 'Paris, Ile-de-France, France'\n",
      " 'Plano, Texas, United States' 'Sydney'\n",
      " 'San Francisco Bay Area, Silicon Valley, West Coast' 'Bangaldesh'\n",
      " 'London, England, United Kingdom' 'Sydney, New South Wales, Australia'\n",
      " 'Milano, Lombardia, Italy' 'Palmwoods, Queensland, Australia' 'France'\n",
      " 'San Francisco Bay Area, West Coast, Western US'\n",
      " 'Trivandrum, Kerala, India' 'Cochin' 'Samastipur, Bihar'\n",
      " 'Irvine, California, United States' 'Tumkur, Karnataka'\n",
      " 'Newcastle Upon Tyne, Newcastle upon Tyne, United Kingdom'\n",
      " 'Shanghai, China' 'Jiaxing, Zhejiang, China' 'Rajastan' 'Kochi'\n",
      " 'Ludhiana' 'Dehradun' 'San Franciscao' 'San Francisco'\n",
      " 'Tangerang, Jawa Barat, Indonesia' 'Berlin' 'Seattle' 'Riyadh' 'Seoul'\n",
      " 'New York' 'Bangkok' 'Kanpur' 'Chandigarh' 'Delhi' 'Warangal' 'Odisha'\n",
      " 'Bihar' 'Goa' 'Tamil Nadu' 'Uttar Pradesh' 'Bhopal' 'Banglore'\n",
      " 'Ahmadabad' 'Small Towns, Andhra Pradesh' 'Rajsamand' 'Ranchi'\n",
      " 'Faridabad, Haryana' 'Computer Games' 'Vadodara' 'Food & Beverages'\n",
      " 'Pharmaceuticals\\t#REF!' 'Gurugram\\t#REF!' 'Mohali' 'Powai' 'Ghaziabad'\n",
      " 'Nagpur' 'West Bengal' 'Samsitpur' 'Lucknow' 'Telangana' 'Silvassa'\n",
      " 'Thiruvananthapuram' 'Faridabad' 'Roorkee' 'Ambernath' 'Panchkula'\n",
      " 'Surat' 'Coimbatore' 'Mangalore' 'Telugana' 'Bhubaneswar' 'Kottayam'\n",
      " 'Beijing' 'Panaji' 'Satara' 'Orissia' 'Santra' 'Mountain View, CA'\n",
      " 'Trivandrum' 'Jharkhand' 'Bhilwara' 'Guwahati' 'Online Media\\t#REF!'\n",
      " 'London' 'Information Technology & Services' 'The Nilgiris' 'Gandhinagar'\n",
      " nan]\n"
     ]
    }
   ],
   "source": [
    "unique_headquarters = main_df['Headquarter'].unique()\n",
    "print(unique_headquarters)"
   ]
  },
  {
   "cell_type": "markdown",
   "metadata": {},
   "source": [
    "### The unique dataframe i created is in order to get the list of unique headquarters to make it easier to clean"
   ]
  },
  {
   "cell_type": "code",
   "execution_count": 61,
   "metadata": {},
   "outputs": [],
   "source": [
    "unique_df = pd.DataFrame(unique_headquarters, columns=['Headquarter'])\n",
    "\n",
    "unique_df.to_csv('unique_headquarters.csv', index=False)"
   ]
  },
  {
   "cell_type": "code",
   "execution_count": 62,
   "metadata": {},
   "outputs": [
    {
     "name": "stdout",
     "output_type": "stream",
     "text": [
      "0         Chennai\n",
      "1       Bangalore\n",
      "2            Pune\n",
      "3       New Delhi\n",
      "4          Indore\n",
      "          ...    \n",
      "2105    Bangalore\n",
      "2106    Bangalore\n",
      "2107     Gurugram\n",
      "2108        Delhi\n",
      "2109        Delhi\n",
      "Name: Headquarter, Length: 2110, dtype: object\n"
     ]
    }
   ],
   "source": [
    "\n",
    "# Step 2: Remove leading/trailing whitespace and standardize the text\n",
    "main_df['Headquarter'] = main_df['Headquarter'].str.strip().str.title()\n",
    "\n",
    "# Step 3: Reset the index (optional, for presentation purposes)\n",
    "main_df.reset_index(drop=True, inplace=True)\n",
    "\n",
    "# Step 4: Display the cleaned 'Headquarter' column\n",
    "print(main_df['Headquarter'])\n",
    "\n",
    "# Optionally, save the cleaned dataset if needed\n",
    "# main_df.to_csv('cleaned_main_dataset.csv', index=False)\n"
   ]
  },
  {
   "cell_type": "code",
   "execution_count": 63,
   "metadata": {},
   "outputs": [],
   "source": [
    "main_df.dropna(subset=['Headquarter'], inplace=True)\n"
   ]
  },
  {
   "cell_type": "code",
   "execution_count": 64,
   "metadata": {},
   "outputs": [
    {
     "data": {
      "text/plain": [
       "Company/Brand    0\n",
       "Founded          0\n",
       "Headquarter      0\n",
       "Sector           0\n",
       "About            0\n",
       "Investor         0\n",
       "Amount           0\n",
       "Stage            0\n",
       "Sector           0\n",
       "dtype: int64"
      ]
     },
     "execution_count": 64,
     "metadata": {},
     "output_type": "execute_result"
    }
   ],
   "source": [
    "main_df.isnull().sum()"
   ]
  },
  {
   "cell_type": "markdown",
   "metadata": {},
   "source": [
    "# EXPLORATORY DATA ANALYSIS"
   ]
  },
  {
   "cell_type": "markdown",
   "metadata": {},
   "source": [
    "# UNIVARIATE DATA ANALYSIS"
   ]
  },
  {
   "cell_type": "code",
   "execution_count": 65,
   "metadata": {},
   "outputs": [
    {
     "data": {
      "text/plain": [
       "<Axes: >"
      ]
     },
     "execution_count": 65,
     "metadata": {},
     "output_type": "execute_result"
    },
    {
     "data": {
      "image/png": "[encoded data removed]",
      "text/plain": [
       "<Figure size 2500x1000 with 2 Axes>"
      ]
     },
     "metadata": {},
     "output_type": "display_data"
    }
   ],
   "source": [
    "# Visualization of null values across the entire dataset\n",
    "msno.matrix(main_df)"
   ]
  },
  {
   "cell_type": "code",
   "execution_count": 66,
   "metadata": {},
   "outputs": [
    {
     "name": "stdout",
     "output_type": "stream",
     "text": [
      "<class 'pandas.core.frame.DataFrame'>\n",
      "Index: 2037 entries, 0 to 2109\n",
      "Data columns (total 9 columns):\n",
      " #   Column         Non-Null Count  Dtype  \n",
      "---  ------         --------------  -----  \n",
      " 0   Company/Brand  2037 non-null   object \n",
      " 1   Founded        2037 non-null   int64  \n",
      " 2   Headquarter    2037 non-null   object \n",
      " 3   Sector         2037 non-null   object \n",
      " 4   About          2037 non-null   object \n",
      " 5   Investor       2037 non-null   object \n",
      " 6   Amount         2037 non-null   float64\n",
      " 7   Stage          2037 non-null   object \n",
      " 8   Sector         2037 non-null   object \n",
      "dtypes: float64(1), int64(1), object(7)\n",
      "memory usage: 159.1+ KB\n"
     ]
    }
   ],
   "source": [
    "main_df.info()"
   ]
  },
  {
   "cell_type": "code",
   "execution_count": 67,
   "metadata": {},
   "outputs": [
    {
     "data": {
      "image/png": "[encoded data removed]",
      "text/plain": [
       "<Figure size 1000x600 with 1 Axes>"
      ]
     },
     "metadata": {},
     "output_type": "display_data"
    }
   ],
   "source": [
    "# Founded - Numerical\n",
    "plt.figure(figsize=(10, 6))\n",
    "sns.histplot(main_df['Founded'], bins=20, kde=True)\n",
    "plt.title('Distribution of Founded Years')\n",
    "plt.xlabel('Founded Year')\n",
    "plt.ylabel('Frequency')\n",
    "plt.show()"
   ]
  },
  {
   "cell_type": "code",
   "execution_count": 68,
   "metadata": {},
   "outputs": [
    {
     "data": {
      "image/png": "[encoded data removed]",
      "text/plain": [
       "<Figure size 1000x600 with 1 Axes>"
      ]
     },
     "metadata": {},
     "output_type": "display_data"
    }
   ],
   "source": [
    "# 5. Amount - Numerical\n",
    "plt.figure(figsize=(10, 6))\n",
    "sns.histplot(main_df['Amount'], bins=20, kde=True)\n",
    "plt.title('Distribution of Investment Amounts')\n",
    "plt.xlabel('Amount')\n",
    "plt.ylabel('Frequency')\n",
    "plt.show()"
   ]
  },
  {
   "cell_type": "code",
   "execution_count": 69,
   "metadata": {},
   "outputs": [
    {
     "name": "stdout",
     "output_type": "stream",
     "text": [
      "Headquarter\n",
      "Bangalore                   694\n",
      "Mumbai                      340\n",
      "Gurugram                    222\n",
      "New Delhi                   177\n",
      "Chennai                      79\n",
      "                           ... \n",
      "Dehradun                      1\n",
      "Ludhiana                      1\n",
      "Rajastan                      1\n",
      "Jiaxing, Zhejiang, China      1\n",
      "Gandhinagar                   1\n",
      "Name: count, Length: 119, dtype: int64\n"
     ]
    },
    {
     "data": {
      "image/png": "[encoded data removed]",
      "text/plain": [
       "<Figure size 1200x800 with 1 Axes>"
      ]
     },
     "metadata": {},
     "output_type": "display_data"
    }
   ],
   "source": [
    "# Frequency count of 'location'\n",
    "\n",
    "print(main_df['Headquarter'].value_counts())\n",
    "# Bar plot of location\n",
    "\n",
    "plt.figure(figsize=(12, 8))\n",
    "main_df['Headquarter'].value_counts().nlargest(10).plot(kind='bar')\n",
    "plt.title('Top 10 Locations by Number of Startups')\n",
    "plt.xlabel('Location')\n",
    "plt.ylabel('Number of Startups')\n",
    "plt.show()"
   ]
  },
  {
   "cell_type": "code",
   "execution_count": 70,
   "metadata": {},
   "outputs": [
    {
     "data": {
      "text/plain": [
       "array([[<Axes: title={'center': 'Founded'}>,\n",
       "        <Axes: title={'center': 'Amount'}>]], dtype=object)"
      ]
     },
     "execution_count": 70,
     "metadata": {},
     "output_type": "execute_result"
    },
    {
     "data": {
      "image/png": "[encoded data removed]",
      "text/plain": [
       "<Figure size 640x480 with 2 Axes>"
      ]
     },
     "metadata": {},
     "output_type": "display_data"
    }
   ],
   "source": [
    "main_df.hist()"
   ]
  },
  {
   "cell_type": "code",
   "execution_count": 71,
   "metadata": {},
   "outputs": [
    {
     "data": {
      "text/plain": [
       "<Axes: >"
      ]
     },
     "execution_count": 71,
     "metadata": {},
     "output_type": "execute_result"
    },
    {
     "data": {
      "image/png": "[encoded data removed]",
      "text/plain": [
       "<Figure size 640x480 with 1 Axes>"
      ]
     },
     "metadata": {},
     "output_type": "display_data"
    }
   ],
   "source": [
    "main_df.boxplot()"
   ]
  }
 ],
 "metadata": {
  "kernelspec": {
   "display_name": "Python 3",
   "language": "python",
   "name": "python3"
  },
  "language_info": {
   "codemirror_mode": {
    "name": "ipython",
    "version": 3
   },
   "file_extension": ".py",
   "mimetype": "text/x-python",
   "name": "python",
   "nbconvert_exporter": "python",
   "pygments_lexer": "ipython3",
   "version": "3.12.7"
  }
 },
 "nbformat": 4,
 "nbformat_minor": 2
}
